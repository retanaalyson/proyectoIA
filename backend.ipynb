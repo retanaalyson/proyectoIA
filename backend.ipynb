{
  "cells": [
    {
      "cell_type": "markdown",
      "metadata": {
        "id": "view-in-github",
        "colab_type": "text"
      },
      "source": [
        "<a href=\"https://colab.research.google.com/github/retanaalyson/proyectoIA/blob/main/backend.ipynb\" target=\"_parent\"><img src=\"https://colab.research.google.com/assets/colab-badge.svg\" alt=\"Open In Colab\"/></a>"
      ]
    },
    {
      "cell_type": "markdown",
      "source": [
        "# Backend"
      ],
      "metadata": {
        "id": "YIwVc6ZNwQRw"
      }
    },
    {
      "cell_type": "code",
      "execution_count": null,
      "metadata": {
        "id": "7p3aDBiEJ-WG"
      },
      "outputs": [],
      "source": [
        "!pip list\n",
        "!pip install joblib\n",
        "import joblib\n",
        "!pip install flask-restful\n",
        "from statsmodels.iolib.openfile import get_file_obj\n",
        "!pip install json2html\n",
        "from flask import render_template\n",
        "import pandas as pd\n",
        "import numpy as np\n",
        "!pip install flask_ngrok\n",
        "!pip install pyngrok\n",
        "import xgboost as xgb"
      ]
    },
    {
      "cell_type": "code",
      "execution_count": null,
      "metadata": {
        "id": "toBXf7CpE-GP"
      },
      "outputs": [],
      "source": [
        "!wget https://github.com/retanaalyson/proyectoIA/archive/master.zip"
      ]
    },
    {
      "cell_type": "code",
      "execution_count": null,
      "metadata": {
        "id": "-GDe3VfrFFM_"
      },
      "outputs": [],
      "source": [
        "!unzip \"/content/master.zip\""
      ]
    },
    {
      "cell_type": "markdown",
      "metadata": {
        "id": "Bf7zOsfi3ty1"
      },
      "source": [
        "## *Modelo Aguacate*"
      ]
    },
    {
      "cell_type": "code",
      "execution_count": 4,
      "metadata": {
        "colab": {
          "base_uri": "https://localhost:8080/"
        },
        "id": "23zw9E-t3tzO",
        "outputId": "84048d16-8ef9-4aa5-c6d2-3fcd4ea93df7"
      },
      "outputs": [
        {
          "output_type": "stream",
          "name": "stdout",
          "text": [
            "Archive:  /content/proyectoIA-main/modeloAguacate.zip\n",
            "  inflating: modeloAguacate.joblib   \n"
          ]
        }
      ],
      "source": [
        "!unzip \"/content/proyectoIA-main/modeloAguacate.zip\""
      ]
    },
    {
      "cell_type": "code",
      "execution_count": 5,
      "metadata": {
        "id": "lni3ARb-3tzP"
      },
      "outputs": [],
      "source": [
        "def modeloAguacate(prueba):\n",
        "  filename = '/content/modeloAguacate.joblib'\n",
        "  model = joblib.load(filename) \n",
        "  prediction =model.get_prediction(start=prueba, dynamic=False).conf_int()\n",
        "  return prediction"
      ]
    },
    {
      "cell_type": "markdown",
      "metadata": {
        "id": "NytUKX_57h-d"
      },
      "source": [
        "## *Modelo Automóvil*"
      ]
    },
    {
      "cell_type": "code",
      "execution_count": 6,
      "metadata": {
        "colab": {
          "base_uri": "https://localhost:8080/"
        },
        "id": "WrHlew4T7h_G",
        "outputId": "1bedc3fa-dadf-4db7-8a0f-66f228800345"
      },
      "outputs": [
        {
          "output_type": "stream",
          "name": "stdout",
          "text": [
            "Archive:  /content/proyectoIA-main/modeloAuto.zip\n",
            "  inflating: modeloAuto.joblib       \n"
          ]
        }
      ],
      "source": [
        "!unzip \"/content/proyectoIA-main/modeloAuto.zip\""
      ]
    },
    {
      "cell_type": "code",
      "execution_count": 7,
      "metadata": {
        "id": "Fd2a-Qge7h_H"
      },
      "outputs": [],
      "source": [
        "def modeloAuto(prueba):\n",
        "  filename = '/content/modeloAuto.joblib'\n",
        "  model = joblib.load(filename) \n",
        "  prediction =model.get_prediction(start=prueba, dynamic=False).conf_int()\n",
        "  return prediction"
      ]
    },
    {
      "cell_type": "markdown",
      "metadata": {
        "id": "LwduMJn6KBAN"
      },
      "source": [
        "## *Modelo Bitcoin*"
      ]
    },
    {
      "cell_type": "code",
      "execution_count": 8,
      "metadata": {
        "colab": {
          "base_uri": "https://localhost:8080/"
        },
        "id": "XHfr5s4hFViz",
        "outputId": "ffb7a969-08bb-4a26-eb81-4b2e492bd0a7"
      },
      "outputs": [
        {
          "output_type": "stream",
          "name": "stdout",
          "text": [
            "Archive:  /content/proyectoIA-main/modeloBitcoin.zip\n",
            "  inflating: modeloBitcoin.joblib    \n"
          ]
        }
      ],
      "source": [
        "!unzip \"/content/proyectoIA-main/modeloBitcoin.zip\""
      ]
    },
    {
      "cell_type": "code",
      "execution_count": 9,
      "metadata": {
        "id": "1zuVU3m92B7b"
      },
      "outputs": [],
      "source": [
        "def modeloBitcoin(prueba):\n",
        "  filename = '/content/modeloBitcoin.joblib'\n",
        "  model = joblib.load(filename) \n",
        "  prediction = model.get_prediction(start=prueba, dynamic=False).conf_int()\n",
        "  return prediction"
      ]
    },
    {
      "cell_type": "markdown",
      "metadata": {
        "id": "jEEGKb-OxIqE"
      },
      "source": [
        "## *Modelo Casa*"
      ]
    },
    {
      "cell_type": "code",
      "execution_count": 10,
      "metadata": {
        "colab": {
          "base_uri": "https://localhost:8080/"
        },
        "id": "mj81fJS2xIqy",
        "outputId": "b87797e8-a0d3-4c4f-c765-1bfc58878178"
      },
      "outputs": [
        {
          "output_type": "stream",
          "name": "stdout",
          "text": [
            "Archive:  /content/proyectoIA-main/modeloCasa.zip\n",
            "  inflating: modeloCasa.joblib       \n"
          ]
        }
      ],
      "source": [
        "!unzip \"/content/proyectoIA-main/modeloCasa.zip\""
      ]
    },
    {
      "cell_type": "code",
      "execution_count": 11,
      "metadata": {
        "id": "UnGRGtVxxIqz"
      },
      "outputs": [],
      "source": [
        "def modeloCasa(prueba):\n",
        "  filename = '/content/modeloCasa.joblib'\n",
        "  model = joblib.load(filename) \n",
        "  prediction =model.predict([prueba])\n",
        "  return prediction"
      ]
    },
    {
      "cell_type": "markdown",
      "metadata": {
        "id": "_RsAU-dKBRk4"
      },
      "source": [
        "## *Modelo Crímenes*"
      ]
    },
    {
      "cell_type": "code",
      "execution_count": 12,
      "metadata": {
        "colab": {
          "base_uri": "https://localhost:8080/"
        },
        "id": "nF_CM-Q5BRk5",
        "outputId": "8eea56c6-2bb0-4a8f-83bf-8a728081f5ba"
      },
      "outputs": [
        {
          "output_type": "stream",
          "name": "stdout",
          "text": [
            "Archive:  /content/proyectoIA-main/modeloCrimenes.zip\n",
            "  inflating: modeloCrimenes.joblib   \n"
          ]
        }
      ],
      "source": [
        "!unzip \"/content/proyectoIA-main/modeloCrimenes.zip\""
      ]
    },
    {
      "cell_type": "code",
      "execution_count": 13,
      "metadata": {
        "id": "8AiW0bjtBRk6"
      },
      "outputs": [],
      "source": [
        "def modeloCrimenes(prueba):\n",
        "  filename = '/content/modeloCrimenes.joblib'\n",
        "  model = joblib.load(filename) \n",
        "  prediction = model.get_prediction(start=prueba, dynamic=False).conf_int()\n",
        "  return prediction"
      ]
    },
    {
      "cell_type": "markdown",
      "metadata": {
        "id": "hbbsmqNPYTAp"
      },
      "source": [
        "## *Modelo Cirrosis*"
      ]
    },
    {
      "cell_type": "code",
      "execution_count": 14,
      "metadata": {
        "colab": {
          "base_uri": "https://localhost:8080/"
        },
        "id": "UFqhs9EnYTBY",
        "outputId": "601037fb-8b2b-4323-b295-b2ccb1470a43"
      },
      "outputs": [
        {
          "output_type": "stream",
          "name": "stdout",
          "text": [
            "Archive:  /content/proyectoIA-main/modeloCirrosis.zip\n",
            "  inflating: modeloCirrosis.joblib   \n"
          ]
        }
      ],
      "source": [
        "!unzip \"/content/proyectoIA-main/modeloCirrosis.zip\""
      ]
    },
    {
      "cell_type": "code",
      "execution_count": 15,
      "metadata": {
        "id": "CJjcw41uYTBa"
      },
      "outputs": [],
      "source": [
        "def modeloCirrosis(prueba):\n",
        "  filename = '/content/modeloCirrosis.joblib'\n",
        "  model = joblib.load(filename) \n",
        "  prediction =model.predict([prueba])\n",
        "  return prediction"
      ]
    },
    {
      "cell_type": "markdown",
      "metadata": {
        "id": "WSAT9PCFQeHA"
      },
      "source": [
        "## *Modelo Hepatitis*"
      ]
    },
    {
      "cell_type": "code",
      "execution_count": 16,
      "metadata": {
        "colab": {
          "base_uri": "https://localhost:8080/"
        },
        "id": "sG7dOt1uWenw",
        "outputId": "5f54d3f5-97a9-451a-c4e7-fdc47d045a7b"
      },
      "outputs": [
        {
          "output_type": "stream",
          "name": "stdout",
          "text": [
            "Archive:  /content/proyectoIA-main/modeloHepatitis.zip\n",
            "  inflating: modeloHepatitis.joblib  \n"
          ]
        }
      ],
      "source": [
        "!unzip \"/content/proyectoIA-main/modeloHepatitis.zip\""
      ]
    },
    {
      "cell_type": "code",
      "execution_count": 17,
      "metadata": {
        "id": "E9fYcMBmWn2N"
      },
      "outputs": [],
      "source": [
        "def modeloHepatitis(prueba):\n",
        "  filename = '/content/modeloHepatitis.joblib'\n",
        "  model = joblib.load(filename) \n",
        "  prediction =model.predict([prueba])\n",
        "  return prediction"
      ]
    },
    {
      "cell_type": "markdown",
      "metadata": {
        "id": "kY4yQBXuQm0Y"
      },
      "source": [
        "## *Modelo Masa Corporal*"
      ]
    },
    {
      "cell_type": "code",
      "execution_count": 18,
      "metadata": {
        "colab": {
          "base_uri": "https://localhost:8080/"
        },
        "id": "ShyyDgC7Qm00",
        "outputId": "0be67257-a71f-4965-e9de-d54f292e82b8"
      },
      "outputs": [
        {
          "output_type": "stream",
          "name": "stdout",
          "text": [
            "Archive:  /content/proyectoIA-main/modeloMasaCorporal.zip\n",
            "  inflating: modeloMasaCorporal.joblib  \n"
          ]
        }
      ],
      "source": [
        "!unzip \"/content/proyectoIA-main/modeloMasaCorporal.zip\""
      ]
    },
    {
      "cell_type": "code",
      "execution_count": 19,
      "metadata": {
        "id": "YiKCcYYIQm01"
      },
      "outputs": [],
      "source": [
        "def modeloMasaCorporal(prueba):\n",
        "  filename = '/content/modeloMasaCorporal.joblib'\n",
        "  model = joblib.load(filename) \n",
        "  prediction = model.predict(prueba)\n",
        "  print(prediction)\n",
        "  return prediction"
      ]
    },
    {
      "cell_type": "markdown",
      "metadata": {
        "id": "Nw3_hqgCQqXY"
      },
      "source": [
        "## *Modelo Tesla*"
      ]
    },
    {
      "cell_type": "code",
      "execution_count": 20,
      "metadata": {
        "colab": {
          "base_uri": "https://localhost:8080/"
        },
        "id": "NBcPPiKfQqYA",
        "outputId": "06cb744e-e044-41b1-c4cd-aeb7724dd936"
      },
      "outputs": [
        {
          "output_type": "stream",
          "name": "stdout",
          "text": [
            "Archive:  /content/proyectoIA-main/modeloTesla.zip\n",
            "  inflating: modeloTesla.joblib      \n"
          ]
        }
      ],
      "source": [
        "!unzip \"/content/proyectoIA-main/modeloTesla.zip\""
      ]
    },
    {
      "cell_type": "code",
      "execution_count": 21,
      "metadata": {
        "id": "uIa38MRXQqYC"
      },
      "outputs": [],
      "source": [
        "def modeloTesla(prueba):\n",
        "  filename = '/content/modeloTesla.joblib'\n",
        "  model = joblib.load(filename) \n",
        "  prediction =model.get_prediction(start=prueba, dynamic=False).conf_int()\n",
        "  return prediction"
      ]
    },
    {
      "cell_type": "markdown",
      "metadata": {
        "id": "ZNOmAPsxi8uu"
      },
      "source": [
        "## *Modelo Vino*"
      ]
    },
    {
      "cell_type": "code",
      "execution_count": 22,
      "metadata": {
        "colab": {
          "base_uri": "https://localhost:8080/"
        },
        "id": "G-5OXpRgi8u1",
        "outputId": "9f83076e-eead-4a6a-8b24-f06054ebb97e"
      },
      "outputs": [
        {
          "output_type": "stream",
          "name": "stdout",
          "text": [
            "Archive:  /content/proyectoIA-main/modeloVino.zip\n",
            "  inflating: modeloVino.joblib       \n"
          ]
        }
      ],
      "source": [
        "!unzip \"/content/proyectoIA-main/modeloVino.zip\""
      ]
    },
    {
      "cell_type": "code",
      "execution_count": 23,
      "metadata": {
        "id": "PGrrfc8Ei8u4"
      },
      "outputs": [],
      "source": [
        "def modeloVino(prueba):\n",
        "  filename = '/content/modeloVino.joblib'\n",
        "  model = joblib.load(filename) \n",
        "  prediction = model.predict([prueba])\n",
        "  return prediction"
      ]
    },
    {
      "cell_type": "markdown",
      "metadata": {
        "id": "dXYnZWbwKL0I"
      },
      "source": [
        "## **Main**"
      ]
    },
    {
      "cell_type": "code",
      "execution_count": null,
      "metadata": {
        "id": "BdmuiJzvE6uv"
      },
      "outputs": [],
      "source": [
        "!curl -s https://ngrok-agent.s3.amazonaws.com/ngrok.asc | sudo tee /etc/apt/trusted.gpg.d/ngrok.asc >/dev/null && echo \"deb https://ngrok-agent.s3.amazonaws.com buster main\" | sudo tee /etc/apt/sources.list.d/ngrok.list && sudo apt update && sudo apt install ngrok   "
      ]
    },
    {
      "cell_type": "code",
      "execution_count": null,
      "metadata": {
        "id": "sB9jNI_yFAl3"
      },
      "outputs": [],
      "source": [
        "!ls"
      ]
    },
    {
      "cell_type": "code",
      "execution_count": null,
      "metadata": {
        "id": "kZWvG7LYFBgo"
      },
      "outputs": [],
      "source": [
        "!ngrok authtoken 27hXviPTYKiSnWsJrNeY0gGwKtu_6mTDGjMC6drMLxvbBKNXz"
      ]
    },
    {
      "cell_type": "code",
      "execution_count": null,
      "metadata": {
        "id": "NYvj3_UpBDan"
      },
      "outputs": [],
      "source": [
        "from flask_ngrok import run_with_ngrok\n",
        "from flask import Flask\n",
        "from flask_restful import Api\n",
        "from flask import request\n",
        "from pyngrok import ngrok\n",
        "\n",
        "app = Flask(__name__)\n",
        "api = Api(app)\n",
        "\n",
        "ngrok.set_auth_token(\"27hXviPTYKiSnWsJrNeY0gGwKtu_6mTDGjMC6drMLxvbBKNXz\")\n",
        "\n",
        "run_with_ngrok(app)\n",
        "\n",
        "@app.route(\"/\")\n",
        "def index():\n",
        "  return \"<h1>Running Flask!</h1>\"\n",
        "\n",
        "@app.route(\"/modelAguacate\")\n",
        "def modelAguacate():\n",
        "  fecha = request.args.get('fecha')\n",
        "  prueba = pd.to_datetime(fecha)\n",
        "  return modeloAguacate(prueba).to_json(orient='index',date_format='iso')\n",
        "\n",
        "@app.route(\"/modelAuto\")\n",
        "def modelAuto():\n",
        "  fecha = request.args.get('fecha')\n",
        "  prueba = pd.to_datetime(fecha)\n",
        "  print('Retorna: ')\n",
        "  print(modeloAuto(prueba))\n",
        "  return modeloAuto(prueba).to_json(orient='index',date_format='iso')\n",
        "  \n",
        "@app.route(\"/modelBitcoin\")\n",
        "def modelBitcoin():\n",
        "  fecha = request.args.get('fecha')\n",
        "  prueba = pd.to_datetime(fecha)\n",
        "  return modeloBitcoin(prueba).to_json(orient='index',date_format='iso')\n",
        "\n",
        "@app.route(\"/modelCasa\")\n",
        "def modelCasa():\n",
        "  sqft_living = request.args.get('sqft_living')\n",
        "  prueba = np.array([sqft_living])\n",
        "  print('Retorna: ')\n",
        "  df = pd.DataFrame(modeloCasa(prueba), columns = ['Result'])\n",
        "  return df.to_json()\n",
        "\n",
        "@app.route(\"/modelCrimenes\")\n",
        "def modelCrimenes():\n",
        "  fecha = request.args.get('fecha')\n",
        "  prueba = pd.to_datetime(fecha)\n",
        "  return modeloCrimenes(prueba).to_json(orient='index',date_format='iso')\n",
        "\n",
        "@app.route(\"/modelCirrosis\")\n",
        "def modelCirrosis():\n",
        "  N_Days = request.args.get('N_Days')\n",
        "  Status = request.args.get('Status')\n",
        "  Drug = request.args.get('Drug')\n",
        "  Age = request.args.get('Age')\n",
        "  Sex = request.args.get('Sex')\n",
        "  Ascites = request.args.get('Ascites')\n",
        "  Hepatomegaly = request.args.get('Hepatomegaly')\n",
        "  Spiders = request.args.get('Spiders')\n",
        "  Edema = request.args.get('Edema')\n",
        "  Bilirubin = request.args.get('Bilirubin')\n",
        "  Cholesterol = request.args.get('Cholesterol')\n",
        "  Albumin = request.args.get('Albumin')\n",
        "  Copper = request.args.get('Copper')\n",
        "  Alk_Phos = request.args.get('Alk_Phos')\n",
        "  SGOT = request.args.get('SGOT')\n",
        "  Tryglicerides = request.args.get('Tryglicerides')\n",
        "  Platelets = request.args.get('Platelets')\n",
        "  Prothrombin = request.args.get('Prothrombin')\n",
        "  data = np.array([N_Days,Status,Drug,Age,Sex,Ascites,Hepatomegaly,Spiders,Edema,Bilirubin,Cholesterol,Albumin,Copper,Alk_Phos,SGOT,Tryglicerides,Platelets,Prothrombin])\n",
        "  prueba = pd.Series(data)\n",
        "  df = pd.DataFrame(modeloCirrosis(prueba), columns = ['Result'])\n",
        "  return df.to_json()\n",
        "\n",
        "@app.route(\"/modelHepatitis\")\n",
        "def modelHepatitis():\n",
        "  Age = request.args.get('Age')\n",
        "  Sex = request.args.get('Sex')\n",
        "  ALB = request.args.get('ALB')\n",
        "  ALP = request.args.get('ALP')\n",
        "  ALT = request.args.get('ALT')\n",
        "  AST = request.args.get('AST')\n",
        "  BIL = request.args.get('BIL')\n",
        "  CHE = request.args.get('CHE')\n",
        "  CHOL = request.args.get('CHOL')\n",
        "  CREA = request.args.get('CREA')\n",
        "  GGT = request.args.get('GGT')\n",
        "  PROT = request.args.get('PROT')\n",
        "  data = np.array([Age,Sex,ALB,ALP,ALT,AST,BIL,CHE,CHOL,CREA,GGT,PROT])\n",
        "  prueba = pd.Series(data)\n",
        "  df = pd.DataFrame(modeloHepatitis(prueba), columns = ['Result'])\n",
        "  return df.to_json()\n",
        "\n",
        "@app.route(\"/modelMasaCorporal\")\n",
        "def modelMasaCorporal():\n",
        "  Density = request.args.get('Density')\n",
        "  Abdomen = request.args.get('Abdomen')\n",
        "  print('Retorna: ')\n",
        "  dfPrueba =pd.DataFrame()\n",
        "  dfPrueba =dfPrueba.append({'Density': float(Density), 'Abdomen': float(Abdomen)}, ignore_index=True)\n",
        "  df = pd.DataFrame(modeloMasaCorporal(dfPrueba), columns = ['Result'])\n",
        "  return df.to_json()\n",
        "\n",
        "@app.route(\"/modelTesla\")\n",
        "def modelTesla():\n",
        "  fecha = request.args.get('fecha')\n",
        "  prueba = pd.to_datetime(fecha)\n",
        "  return modeloTesla(prueba).to_json(orient='index',date_format='iso')\n",
        "\n",
        "@app.route(\"/modelVino\")\n",
        "def modelVino():\n",
        "  tipo = request.args.get('tipo')\n",
        "  acido = request.args.get('acido')\n",
        "  volatil = request.args.get('volatil')\n",
        "  citric = request.args.get('citric')\n",
        "  sugar = request.args.get('sugar')\n",
        "  chlorides = request.args.get('chlorides')\n",
        "  sulfur  = request.args.get('sulfur')\n",
        "  dioxide = request.args.get('dioxide')\n",
        "  density = request.args.get('density')\n",
        "  pH = request.args.get('pH')\n",
        "  sulphates = request.args.get('sulphates')\n",
        "  alcohol = request.args.get('alcohol')\n",
        "  data = np.array([tipo,acido,volatil,citric,sugar,chlorides,sulfur,dioxide,density,pH,sulphates,alcohol])\n",
        "  prueba = pd.Series(data)\n",
        "  df = pd.DataFrame(modeloVino(prueba), columns = ['Result'])\n",
        "  return df.to_json()\n",
        "  \n",
        "app.run()"
      ]
    }
  ],
  "metadata": {
    "colab": {
      "collapsed_sections": [
        "Bf7zOsfi3ty1",
        "NytUKX_57h-d",
        "LwduMJn6KBAN",
        "jEEGKb-OxIqE",
        "_RsAU-dKBRk4",
        "hbbsmqNPYTAp",
        "WSAT9PCFQeHA",
        "kY4yQBXuQm0Y",
        "Nw3_hqgCQqXY",
        "ZNOmAPsxi8uu"
      ],
      "name": "BackIA.ipynb",
      "provenance": [],
      "include_colab_link": true
    },
    "kernelspec": {
      "display_name": "Python 3",
      "name": "python3"
    },
    "language_info": {
      "name": "python"
    }
  },
  "nbformat": 4,
  "nbformat_minor": 0
}