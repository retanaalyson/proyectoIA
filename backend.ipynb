{
  "nbformat": 4,
  "nbformat_minor": 0,
  "metadata": {
    "colab": {
      "name": "BackIA.ipynb",
      "provenance": [],
      "collapsed_sections": [
        "Bf7zOsfi3ty1",
        "NytUKX_57h-d",
        "LwduMJn6KBAN",
        "jEEGKb-OxIqE",
        "_RsAU-dKBRk4",
        "hbbsmqNPYTAp",
        "WSAT9PCFQeHA",
        "kY4yQBXuQm0Y",
        "Nw3_hqgCQqXY",
        "ZNOmAPsxi8uu"
      ],
      "include_colab_link": true
    },
    "kernelspec": {
      "name": "python3",
      "display_name": "Python 3"
    },
    "language_info": {
      "name": "python"
    }
  },
  "cells": [
    {
      "cell_type": "markdown",
      "metadata": {
        "id": "view-in-github",
        "colab_type": "text"
      },
      "source": [
        "<a href=\"https://colab.research.google.com/github/retanaalyson/proyectoIA/blob/main/backend.ipynb\" target=\"_parent\"><img src=\"https://colab.research.google.com/assets/colab-badge.svg\" alt=\"Open In Colab\"/></a>"
      ]
    },
    {
      "cell_type": "code",
      "source": [
        "!pip list\n",
        "!pip install joblib\n",
        "import joblib\n",
        "!pip install flask-restful\n",
        "from statsmodels.iolib.openfile import get_file_obj\n",
        "!pip install json2html\n",
        "from flask import render_template\n",
        "import pandas as pd\n",
        "import numpy as np\n",
        "!pip install flask_ngrok\n",
        "!pip install pyngrok\n",
        "import xgboost as xgb"
      ],
      "metadata": {
        "id": "7p3aDBiEJ-WG",
        "colab": {
          "base_uri": "https://localhost:8080/"
        },
        "outputId": "92916995-cfb1-422b-f991-5b72be1781ce"
      },
      "execution_count": null,
      "outputs": [
        {
          "output_type": "stream",
          "name": "stdout",
          "text": [
            "Package                       Version\n",
            "----------------------------- ---------------------\n",
            "absl-py                       1.0.0\n",
            "alabaster                     0.7.12\n",
            "albumentations                0.1.12\n",
            "altair                        4.2.0\n",
            "appdirs                       1.4.4\n",
            "argon2-cffi                   21.3.0\n",
            "argon2-cffi-bindings          21.2.0\n",
            "arviz                         0.12.0\n",
            "astor                         0.8.1\n",
            "astropy                       4.3.1\n",
            "astunparse                    1.6.3\n",
            "atari-py                      0.2.9\n",
            "atomicwrites                  1.4.0\n",
            "attrs                         21.4.0\n",
            "audioread                     2.1.9\n",
            "autograd                      1.4\n",
            "Babel                         2.9.1\n",
            "backcall                      0.2.0\n",
            "beautifulsoup4                4.6.3\n",
            "bleach                        5.0.0\n",
            "blis                          0.4.1\n",
            "bokeh                         2.3.3\n",
            "Bottleneck                    1.3.4\n",
            "branca                        0.4.2\n",
            "bs4                           0.0.1\n",
            "CacheControl                  0.12.10\n",
            "cached-property               1.5.2\n",
            "cachetools                    4.2.4\n",
            "catalogue                     1.0.0\n",
            "certifi                       2021.10.8\n",
            "cffi                          1.15.0\n",
            "cftime                        1.6.0\n",
            "chardet                       3.0.4\n",
            "charset-normalizer            2.0.12\n",
            "click                         7.1.2\n",
            "cloudpickle                   1.3.0\n",
            "cmake                         3.12.0\n",
            "cmdstanpy                     0.9.5\n",
            "colorcet                      3.0.0\n",
            "colorlover                    0.3.0\n",
            "community                     1.0.0b1\n",
            "contextlib2                   0.5.5\n",
            "convertdate                   2.4.0\n",
            "coverage                      3.7.1\n",
            "coveralls                     0.5\n",
            "crcmod                        1.7\n",
            "cufflinks                     0.17.3\n",
            "cvxopt                        1.2.7\n",
            "cvxpy                         1.0.31\n",
            "cycler                        0.11.0\n",
            "cymem                         2.0.6\n",
            "Cython                        0.29.28\n",
            "daft                          0.0.4\n",
            "dask                          2.12.0\n",
            "datascience                   0.10.6\n",
            "debugpy                       1.0.0\n",
            "decorator                     4.4.2\n",
            "defusedxml                    0.7.1\n",
            "descartes                     1.1.0\n",
            "dill                          0.3.4\n",
            "distributed                   1.25.3\n",
            "dlib                          19.18.0\n",
            "dm-tree                       0.1.7\n",
            "docopt                        0.6.2\n",
            "docutils                      0.17.1\n",
            "dopamine-rl                   1.0.5\n",
            "earthengine-api               0.1.305\n",
            "easydict                      1.9\n",
            "ecos                          2.0.10\n",
            "editdistance                  0.5.3\n",
            "en-core-web-sm                2.2.5\n",
            "entrypoints                   0.4\n",
            "ephem                         4.1.3\n",
            "et-xmlfile                    1.1.0\n",
            "fa2                           0.3.5\n",
            "fastai                        1.0.61\n",
            "fastdtw                       0.3.4\n",
            "fastjsonschema                2.15.3\n",
            "fastprogress                  1.0.2\n",
            "fastrlock                     0.8\n",
            "fbprophet                     0.7.1\n",
            "feather-format                0.4.1\n",
            "filelock                      3.6.0\n",
            "firebase-admin                4.4.0\n",
            "fix-yahoo-finance             0.0.22\n",
            "Flask                         1.1.4\n",
            "flatbuffers                   2.0\n",
            "folium                        0.8.3\n",
            "future                        0.16.0\n",
            "gast                          0.5.3\n",
            "GDAL                          2.2.2\n",
            "gdown                         4.4.0\n",
            "gensim                        3.6.0\n",
            "geographiclib                 1.52\n",
            "geopy                         1.17.0\n",
            "gin-config                    0.5.0\n",
            "glob2                         0.7\n",
            "google                        2.0.3\n",
            "google-api-core               1.31.5\n",
            "google-api-python-client      1.12.11\n",
            "google-auth                   1.35.0\n",
            "google-auth-httplib2          0.0.4\n",
            "google-auth-oauthlib          0.4.6\n",
            "google-cloud-bigquery         1.21.0\n",
            "google-cloud-bigquery-storage 1.1.1\n",
            "google-cloud-core             1.0.3\n",
            "google-cloud-datastore        1.8.0\n",
            "google-cloud-firestore        1.7.0\n",
            "google-cloud-language         1.2.0\n",
            "google-cloud-storage          1.18.1\n",
            "google-cloud-translate        1.5.0\n",
            "google-colab                  1.0.0\n",
            "google-pasta                  0.2.0\n",
            "google-resumable-media        0.4.1\n",
            "googleapis-common-protos      1.56.0\n",
            "googledrivedownloader         0.4\n",
            "graphviz                      0.10.1\n",
            "greenlet                      1.1.2\n",
            "grpcio                        1.44.0\n",
            "gspread                       3.4.2\n",
            "gspread-dataframe             3.0.8\n",
            "gym                           0.17.3\n",
            "h5py                          3.1.0\n",
            "HeapDict                      1.0.1\n",
            "hijri-converter               2.2.3\n",
            "holidays                      0.10.5.2\n",
            "holoviews                     1.14.8\n",
            "html5lib                      1.0.1\n",
            "httpimport                    0.5.18\n",
            "httplib2                      0.17.4\n",
            "httplib2shim                  0.0.3\n",
            "humanize                      0.5.1\n",
            "hyperopt                      0.1.2\n",
            "ideep4py                      2.0.0.post3\n",
            "idna                          2.10\n",
            "imageio                       2.4.1\n",
            "imagesize                     1.3.0\n",
            "imbalanced-learn              0.8.1\n",
            "imblearn                      0.0\n",
            "imgaug                        0.2.9\n",
            "importlib-metadata            4.11.3\n",
            "importlib-resources           5.6.0\n",
            "imutils                       0.5.4\n",
            "inflect                       2.1.0\n",
            "iniconfig                     1.1.1\n",
            "intel-openmp                  2022.0.2\n",
            "intervaltree                  2.1.0\n",
            "ipykernel                     4.10.1\n",
            "ipython                       5.5.0\n",
            "ipython-genutils              0.2.0\n",
            "ipython-sql                   0.3.9\n",
            "ipywidgets                    7.7.0\n",
            "itsdangerous                  1.1.0\n",
            "jax                           0.3.4\n",
            "jaxlib                        0.3.2+cuda11.cudnn805\n",
            "jedi                          0.18.1\n",
            "jieba                         0.42.1\n",
            "Jinja2                        2.11.3\n",
            "joblib                        1.1.0\n",
            "jpeg4py                       0.1.4\n",
            "jsonschema                    4.3.3\n",
            "jupyter                       1.0.0\n",
            "jupyter-client                5.3.5\n",
            "jupyter-console               5.2.0\n",
            "jupyter-core                  4.9.2\n",
            "jupyterlab-pygments           0.2.1\n",
            "jupyterlab-widgets            1.1.0\n",
            "kaggle                        1.5.12\n",
            "kapre                         0.3.7\n",
            "keras                         2.8.0\n",
            "Keras-Preprocessing           1.1.2\n",
            "keras-vis                     0.4.1\n",
            "kiwisolver                    1.4.2\n",
            "korean-lunar-calendar         0.2.1\n",
            "libclang                      13.0.0\n",
            "librosa                       0.8.1\n",
            "lightgbm                      2.2.3\n",
            "llvmlite                      0.34.0\n",
            "lmdb                          0.99\n",
            "LunarCalendar                 0.0.9\n",
            "lxml                          4.2.6\n",
            "Markdown                      3.3.6\n",
            "MarkupSafe                    2.0.1\n",
            "matplotlib                    3.2.2\n",
            "matplotlib-inline             0.1.3\n",
            "matplotlib-venn               0.11.7\n",
            "missingno                     0.5.1\n",
            "mistune                       0.8.4\n",
            "mizani                        0.6.0\n",
            "mkl                           2019.0\n",
            "mlxtend                       0.14.0\n",
            "more-itertools                8.12.0\n",
            "moviepy                       0.2.3.5\n",
            "mpmath                        1.2.1\n",
            "msgpack                       1.0.3\n",
            "multiprocess                  0.70.12.2\n",
            "multitasking                  0.0.10\n",
            "murmurhash                    1.0.6\n",
            "music21                       5.5.0\n",
            "natsort                       5.5.0\n",
            "nbclient                      0.5.13\n",
            "nbconvert                     5.6.1\n",
            "nbformat                      5.3.0\n",
            "nest-asyncio                  1.5.5\n",
            "netCDF4                       1.5.8\n",
            "networkx                      2.6.3\n",
            "nibabel                       3.0.2\n",
            "nltk                          3.2.5\n",
            "notebook                      5.3.1\n",
            "numba                         0.51.2\n",
            "numexpr                       2.8.1\n",
            "numpy                         1.21.5\n",
            "nvidia-ml-py3                 7.352.0\n",
            "oauth2client                  4.1.3\n",
            "oauthlib                      3.2.0\n",
            "okgrade                       0.4.3\n",
            "opencv-contrib-python         4.1.2.30\n",
            "opencv-python                 4.1.2.30\n",
            "openpyxl                      3.0.9\n",
            "opt-einsum                    3.3.0\n",
            "osqp                          0.6.2.post0\n",
            "packaging                     21.3\n",
            "palettable                    3.3.0\n",
            "pandas                        1.3.5\n",
            "pandas-datareader             0.9.0\n",
            "pandas-gbq                    0.13.3\n",
            "pandas-profiling              1.4.1\n",
            "pandocfilters                 1.5.0\n",
            "panel                         0.12.1\n",
            "param                         1.12.1\n",
            "parso                         0.8.3\n",
            "pathlib                       1.0.1\n",
            "patsy                         0.5.2\n",
            "pep517                        0.12.0\n",
            "pexpect                       4.8.0\n",
            "pickleshare                   0.7.5\n",
            "Pillow                        7.1.2\n",
            "pip                           21.1.3\n",
            "pip-tools                     6.2.0\n",
            "plac                          1.1.3\n",
            "plotly                        5.5.0\n",
            "plotnine                      0.6.0\n",
            "pluggy                        0.7.1\n",
            "pooch                         1.6.0\n",
            "portpicker                    1.3.9\n",
            "prefetch-generator            1.0.1\n",
            "preshed                       3.0.6\n",
            "prettytable                   3.2.0\n",
            "progressbar2                  3.38.0\n",
            "prometheus-client             0.14.1\n",
            "promise                       2.3\n",
            "prompt-toolkit                1.0.18\n",
            "protobuf                      3.17.3\n",
            "psutil                        5.4.8\n",
            "psycopg2                      2.7.6.1\n",
            "ptyprocess                    0.7.0\n",
            "py                            1.11.0\n",
            "pyarrow                       6.0.1\n",
            "pyasn1                        0.4.8\n",
            "pyasn1-modules                0.2.8\n",
            "pycocotools                   2.0.4\n",
            "pycparser                     2.21\n",
            "pyct                          0.4.8\n",
            "pydata-google-auth            1.4.0\n",
            "pydot                         1.3.0\n",
            "pydot-ng                      2.0.0\n",
            "pydotplus                     2.0.2\n",
            "PyDrive                       1.3.1\n",
            "pyemd                         0.5.1\n",
            "pyerfa                        2.0.0.1\n",
            "pyglet                        1.5.0\n",
            "Pygments                      2.6.1\n",
            "pygobject                     3.26.1\n",
            "pymc3                         3.11.4\n",
            "PyMeeus                       0.5.11\n",
            "pymongo                       4.1.0\n",
            "pymystem3                     0.2.0\n",
            "PyOpenGL                      3.1.6\n",
            "pyparsing                     3.0.8\n",
            "pyrsistent                    0.18.1\n",
            "pysndfile                     1.3.8\n",
            "PySocks                       1.7.1\n",
            "pystan                        2.19.1.1\n",
            "pytest                        3.6.4\n",
            "python-apt                    0.0.0\n",
            "python-chess                  0.23.11\n",
            "python-dateutil               2.8.2\n",
            "python-louvain                0.16\n",
            "python-slugify                6.1.1\n",
            "python-utils                  3.1.0\n",
            "pytz                          2018.9\n",
            "pyviz-comms                   2.2.0\n",
            "PyWavelets                    1.3.0\n",
            "PyYAML                        3.13\n",
            "pyzmq                         22.3.0\n",
            "qdldl                         0.1.5.post2\n",
            "qtconsole                     5.3.0\n",
            "QtPy                          2.0.1\n",
            "regex                         2019.12.20\n",
            "requests                      2.23.0\n",
            "requests-oauthlib             1.3.1\n",
            "resampy                       0.2.2\n",
            "rpy2                          3.4.5\n",
            "rsa                           4.8\n",
            "scikit-image                  0.18.3\n",
            "scikit-learn                  1.0.2\n",
            "scipy                         1.4.1\n",
            "screen-resolution-extra       0.0.0\n",
            "scs                           3.2.0\n",
            "seaborn                       0.11.2\n",
            "semver                        2.13.0\n",
            "Send2Trash                    1.8.0\n",
            "setuptools                    57.4.0\n",
            "setuptools-git                1.2\n",
            "Shapely                       1.8.1.post1\n",
            "simplegeneric                 0.8.1\n",
            "six                           1.15.0\n",
            "sklearn                       0.0\n",
            "sklearn-pandas                1.8.0\n",
            "smart-open                    5.2.1\n",
            "snowballstemmer               2.2.0\n",
            "sortedcontainers              2.4.0\n",
            "SoundFile                     0.10.3.post1\n",
            "soupsieve                     2.3.2\n",
            "spacy                         2.2.4\n",
            "Sphinx                        1.8.6\n",
            "sphinxcontrib-serializinghtml 1.1.5\n",
            "sphinxcontrib-websupport      1.2.4\n",
            "SQLAlchemy                    1.4.35\n",
            "sqlparse                      0.4.2\n",
            "srsly                         1.0.5\n",
            "statsmodels                   0.10.2\n",
            "sympy                         1.7.1\n",
            "tables                        3.7.0\n",
            "tabulate                      0.8.9\n",
            "tblib                         1.7.0\n",
            "tenacity                      8.0.1\n",
            "tensorboard                   2.8.0\n",
            "tensorboard-data-server       0.6.1\n",
            "tensorboard-plugin-wit        1.8.1\n",
            "tensorflow                    2.8.0\n",
            "tensorflow-datasets           4.0.1\n",
            "tensorflow-estimator          2.8.0\n",
            "tensorflow-gcs-config         2.8.0\n",
            "tensorflow-hub                0.12.0\n",
            "tensorflow-io-gcs-filesystem  0.24.0\n",
            "tensorflow-metadata           1.7.0\n",
            "tensorflow-probability        0.16.0\n",
            "termcolor                     1.1.0\n",
            "terminado                     0.13.3\n",
            "testpath                      0.6.0\n",
            "text-unidecode                1.3\n",
            "textblob                      0.15.3\n",
            "Theano-PyMC                   1.1.2\n",
            "thinc                         7.4.0\n",
            "threadpoolctl                 3.1.0\n",
            "tifffile                      2021.11.2\n",
            "tinycss2                      1.1.1\n",
            "tomli                         2.0.1\n",
            "toolz                         0.11.2\n",
            "torch                         1.10.0+cu111\n",
            "torchaudio                    0.10.0+cu111\n",
            "torchsummary                  1.5.1\n",
            "torchtext                     0.11.0\n",
            "torchvision                   0.11.1+cu111\n",
            "tornado                       5.1.1\n",
            "tqdm                          4.64.0\n",
            "traitlets                     5.1.1\n",
            "tweepy                        3.10.0\n",
            "typeguard                     2.7.1\n",
            "typing-extensions             4.1.1\n",
            "tzlocal                       1.5.1\n",
            "uritemplate                   3.0.1\n",
            "urllib3                       1.24.3\n",
            "vega-datasets                 0.9.0\n",
            "wasabi                        0.9.1\n",
            "wcwidth                       0.2.5\n",
            "webencodings                  0.5.1\n",
            "Werkzeug                      1.0.1\n",
            "wheel                         0.37.1\n",
            "widgetsnbextension            3.6.0\n",
            "wordcloud                     1.5.0\n",
            "wrapt                         1.14.0\n",
            "xarray                        0.18.2\n",
            "xgboost                       0.90\n",
            "xkit                          0.0.0\n",
            "xlrd                          1.1.0\n",
            "xlwt                          1.3.0\n",
            "yellowbrick                   1.4\n",
            "zict                          2.1.0\n",
            "zipp                          3.8.0\n",
            "Requirement already satisfied: joblib in /usr/local/lib/python3.7/dist-packages (1.1.0)\n",
            "Collecting flask-restful\n",
            "  Downloading Flask_RESTful-0.3.9-py2.py3-none-any.whl (25 kB)\n",
            "Requirement already satisfied: six>=1.3.0 in /usr/local/lib/python3.7/dist-packages (from flask-restful) (1.15.0)\n",
            "Requirement already satisfied: pytz in /usr/local/lib/python3.7/dist-packages (from flask-restful) (2018.9)\n",
            "Collecting aniso8601>=0.82\n",
            "  Downloading aniso8601-9.0.1-py2.py3-none-any.whl (52 kB)\n",
            "\u001b[K     |████████████████████████████████| 52 kB 1.2 MB/s \n",
            "\u001b[?25hRequirement already satisfied: Flask>=0.8 in /usr/local/lib/python3.7/dist-packages (from flask-restful) (1.1.4)\n",
            "Requirement already satisfied: Jinja2<3.0,>=2.10.1 in /usr/local/lib/python3.7/dist-packages (from Flask>=0.8->flask-restful) (2.11.3)\n",
            "Requirement already satisfied: Werkzeug<2.0,>=0.15 in /usr/local/lib/python3.7/dist-packages (from Flask>=0.8->flask-restful) (1.0.1)\n",
            "Requirement already satisfied: click<8.0,>=5.1 in /usr/local/lib/python3.7/dist-packages (from Flask>=0.8->flask-restful) (7.1.2)\n",
            "Requirement already satisfied: itsdangerous<2.0,>=0.24 in /usr/local/lib/python3.7/dist-packages (from Flask>=0.8->flask-restful) (1.1.0)\n",
            "Requirement already satisfied: MarkupSafe>=0.23 in /usr/local/lib/python3.7/dist-packages (from Jinja2<3.0,>=2.10.1->Flask>=0.8->flask-restful) (2.0.1)\n",
            "Installing collected packages: aniso8601, flask-restful\n",
            "Successfully installed aniso8601-9.0.1 flask-restful-0.3.9\n"
          ]
        },
        {
          "output_type": "stream",
          "name": "stderr",
          "text": [
            "/usr/local/lib/python3.7/dist-packages/statsmodels/tools/_testing.py:19: FutureWarning: pandas.util.testing is deprecated. Use the functions in the public API at pandas.testing instead.\n",
            "  import pandas.util.testing as tm\n"
          ]
        },
        {
          "output_type": "stream",
          "name": "stdout",
          "text": [
            "Collecting json2html\n",
            "  Downloading json2html-1.3.0.tar.gz (7.0 kB)\n",
            "Building wheels for collected packages: json2html\n",
            "  Building wheel for json2html (setup.py) ... \u001b[?25l\u001b[?25hdone\n",
            "  Created wheel for json2html: filename=json2html-1.3.0-py3-none-any.whl size=7609 sha256=d77650da81e21d2868442ff80e320b59f72ffa7257ca8a92799de5a1e59b088f\n",
            "  Stored in directory: /root/.cache/pip/wheels/e5/99/37/e1839a5ad733e0d6abb7e0419fd913e8926ddf96408239ce01\n",
            "Successfully built json2html\n",
            "Installing collected packages: json2html\n",
            "Successfully installed json2html-1.3.0\n",
            "Collecting flask_ngrok\n",
            "  Downloading flask_ngrok-0.0.25-py3-none-any.whl (3.1 kB)\n",
            "Requirement already satisfied: requests in /usr/local/lib/python3.7/dist-packages (from flask_ngrok) (2.23.0)\n",
            "Requirement already satisfied: Flask>=0.8 in /usr/local/lib/python3.7/dist-packages (from flask_ngrok) (1.1.4)\n",
            "Requirement already satisfied: Werkzeug<2.0,>=0.15 in /usr/local/lib/python3.7/dist-packages (from Flask>=0.8->flask_ngrok) (1.0.1)\n",
            "Requirement already satisfied: click<8.0,>=5.1 in /usr/local/lib/python3.7/dist-packages (from Flask>=0.8->flask_ngrok) (7.1.2)\n",
            "Requirement already satisfied: Jinja2<3.0,>=2.10.1 in /usr/local/lib/python3.7/dist-packages (from Flask>=0.8->flask_ngrok) (2.11.3)\n",
            "Requirement already satisfied: itsdangerous<2.0,>=0.24 in /usr/local/lib/python3.7/dist-packages (from Flask>=0.8->flask_ngrok) (1.1.0)\n",
            "Requirement already satisfied: MarkupSafe>=0.23 in /usr/local/lib/python3.7/dist-packages (from Jinja2<3.0,>=2.10.1->Flask>=0.8->flask_ngrok) (2.0.1)\n",
            "Requirement already satisfied: idna<3,>=2.5 in /usr/local/lib/python3.7/dist-packages (from requests->flask_ngrok) (2.10)\n",
            "Requirement already satisfied: certifi>=2017.4.17 in /usr/local/lib/python3.7/dist-packages (from requests->flask_ngrok) (2021.10.8)\n",
            "Requirement already satisfied: chardet<4,>=3.0.2 in /usr/local/lib/python3.7/dist-packages (from requests->flask_ngrok) (3.0.4)\n",
            "Requirement already satisfied: urllib3!=1.25.0,!=1.25.1,<1.26,>=1.21.1 in /usr/local/lib/python3.7/dist-packages (from requests->flask_ngrok) (1.24.3)\n",
            "Installing collected packages: flask-ngrok\n",
            "Successfully installed flask-ngrok-0.0.25\n",
            "Collecting pyngrok\n",
            "  Downloading pyngrok-5.1.0.tar.gz (745 kB)\n",
            "\u001b[K     |████████████████████████████████| 745 kB 4.3 MB/s \n",
            "\u001b[?25hRequirement already satisfied: PyYAML in /usr/local/lib/python3.7/dist-packages (from pyngrok) (3.13)\n",
            "Building wheels for collected packages: pyngrok\n",
            "  Building wheel for pyngrok (setup.py) ... \u001b[?25l\u001b[?25hdone\n",
            "  Created wheel for pyngrok: filename=pyngrok-5.1.0-py3-none-any.whl size=19007 sha256=cf9abbfdd32e8d6e11481f2ad8267732c72f4dbcad1f0d051c62270975683209\n",
            "  Stored in directory: /root/.cache/pip/wheels/bf/e6/af/ccf6598ecefecd44104069371795cb9b3afbcd16987f6ccfb3\n",
            "Successfully built pyngrok\n",
            "Installing collected packages: pyngrok\n",
            "Successfully installed pyngrok-5.1.0\n"
          ]
        }
      ]
    },
    {
      "cell_type": "code",
      "source": [
        "!wget https://github.com/retanaalyson/proyectoIA/archive/master.zip"
      ],
      "metadata": {
        "id": "toBXf7CpE-GP",
        "colab": {
          "base_uri": "https://localhost:8080/"
        },
        "outputId": "193b9e9f-c833-4c6c-97e3-e0ca3995659e"
      },
      "execution_count": null,
      "outputs": [
        {
          "output_type": "stream",
          "name": "stdout",
          "text": [
            "--2022-04-18 14:57:05--  https://github.com/retanaalyson/proyectoIA/archive/master.zip\n",
            "Resolving github.com (github.com)... 52.192.72.89\n",
            "Connecting to github.com (github.com)|52.192.72.89|:443... connected.\n",
            "HTTP request sent, awaiting response... 302 Found\n",
            "Location: https://codeload.github.com/retanaalyson/proyectoIA/zip/main [following]\n",
            "--2022-04-18 14:57:05--  https://codeload.github.com/retanaalyson/proyectoIA/zip/main\n",
            "Resolving codeload.github.com (codeload.github.com)... 13.112.159.149\n",
            "Connecting to codeload.github.com (codeload.github.com)|13.112.159.149|:443... connected.\n",
            "HTTP request sent, awaiting response... 200 OK\n",
            "Length: 49692450 (47M) [application/zip]\n",
            "Saving to: ‘master.zip’\n",
            "\n",
            "master.zip          100%[===================>]  47.39M  12.8MB/s    in 3.8s    \n",
            "\n",
            "2022-04-18 14:57:09 (12.4 MB/s) - ‘master.zip’ saved [49692450/49692450]\n",
            "\n"
          ]
        }
      ]
    },
    {
      "cell_type": "code",
      "source": [
        "!unzip \"/content/master.zip\""
      ],
      "metadata": {
        "id": "-GDe3VfrFFM_",
        "colab": {
          "base_uri": "https://localhost:8080/"
        },
        "outputId": "c3166be6-4868-4ff5-eef7-23fa58921dc6"
      },
      "execution_count": null,
      "outputs": [
        {
          "output_type": "stream",
          "name": "stdout",
          "text": [
            "Archive:  /content/master.zip\n",
            "9d32ad93ba63c84088f966a6e9e1ffb8075c14d0\n",
            "   creating: proyectoIA-main/\n",
            " extracting: proyectoIA-main/archive.zip  \n",
            "  inflating: proyectoIA-main/masaCorporal.zip  \n",
            "  inflating: proyectoIA-main/modeloAguacate.zip  \n",
            "  inflating: proyectoIA-main/modeloAuto.zip  \n",
            "  inflating: proyectoIA-main/modeloBitcoin.zip  \n",
            "  inflating: proyectoIA-main/modeloCasa.zip  \n",
            " extracting: proyectoIA-main/modeloCirrosis.zip  \n",
            "  inflating: proyectoIA-main/modeloCrimenes.zip  \n",
            "  inflating: proyectoIA-main/modeloHepatitis.zip  \n",
            "  inflating: proyectoIA-main/modeloMasaCorporal.zip  \n",
            "  inflating: proyectoIA-main/modeloTesla.zip  \n",
            "  inflating: proyectoIA-main/modeloVino.zip  \n"
          ]
        }
      ]
    },
    {
      "cell_type": "markdown",
      "source": [
        "# *Modelo Aguacate*"
      ],
      "metadata": {
        "id": "Bf7zOsfi3ty1"
      }
    },
    {
      "cell_type": "code",
      "source": [
        "!unzip \"/content/proyectoIA-main/modeloAguacate.zip\""
      ],
      "metadata": {
        "colab": {
          "base_uri": "https://localhost:8080/"
        },
        "outputId": "169bb33d-12a4-4ccf-a4d0-a9ec065dfd4f",
        "id": "23zw9E-t3tzO"
      },
      "execution_count": null,
      "outputs": [
        {
          "output_type": "stream",
          "name": "stdout",
          "text": [
            "Archive:  /content/proyectoIA-main/modeloAguacate.zip\n",
            "  inflating: modeloAguacate.joblib   \n"
          ]
        }
      ]
    },
    {
      "cell_type": "code",
      "source": [
        "def modeloAguacate(prueba):\n",
        "  filename = '/content/modeloAguacate.joblib'\n",
        "  model = joblib.load(filename) \n",
        "  prediction =model.get_prediction(start=prueba, dynamic=False).conf_int()\n",
        "  return prediction"
      ],
      "metadata": {
        "id": "lni3ARb-3tzP"
      },
      "execution_count": null,
      "outputs": []
    },
    {
      "cell_type": "markdown",
      "source": [
        "# *Modelo Automóvil*"
      ],
      "metadata": {
        "id": "NytUKX_57h-d"
      }
    },
    {
      "cell_type": "code",
      "source": [
        "!unzip \"/content/proyectoIA-main/modeloAuto.zip\""
      ],
      "metadata": {
        "colab": {
          "base_uri": "https://localhost:8080/"
        },
        "outputId": "8c740203-230f-4173-9a92-52a285f34608",
        "id": "WrHlew4T7h_G"
      },
      "execution_count": null,
      "outputs": [
        {
          "output_type": "stream",
          "name": "stdout",
          "text": [
            "Archive:  /content/proyectoIA-main/modeloAuto.zip\n",
            "  inflating: modeloAuto.joblib       \n"
          ]
        }
      ]
    },
    {
      "cell_type": "code",
      "source": [
        "def modeloAuto(prueba):\n",
        "  filename = '/content/modeloAuto.joblib'\n",
        "  model = joblib.load(filename) \n",
        "  prediction =model.get_prediction(start=prueba, dynamic=False).conf_int()\n",
        "  return prediction"
      ],
      "metadata": {
        "id": "Fd2a-Qge7h_H"
      },
      "execution_count": null,
      "outputs": []
    },
    {
      "cell_type": "markdown",
      "source": [
        "# *Modelo Bitcoin*"
      ],
      "metadata": {
        "id": "LwduMJn6KBAN"
      }
    },
    {
      "cell_type": "code",
      "source": [
        "!unzip \"/content/proyectoIA-main/modeloBitcoin.zip\""
      ],
      "metadata": {
        "id": "XHfr5s4hFViz",
        "colab": {
          "base_uri": "https://localhost:8080/"
        },
        "outputId": "7d9a9b8f-73dd-4f5d-9886-8cf4678802e4"
      },
      "execution_count": null,
      "outputs": [
        {
          "output_type": "stream",
          "name": "stdout",
          "text": [
            "Archive:  /content/proyectoIA-main/modeloBitcoin.zip\n",
            "  inflating: modeloBitcoin.joblib    \n"
          ]
        }
      ]
    },
    {
      "cell_type": "code",
      "source": [
        "def modeloBitcoin(prueba):\n",
        "  filename = '/content/modeloBitcoin.joblib'\n",
        "  model = joblib.load(filename) \n",
        "  prediction = model.get_prediction(start=prueba, dynamic=False).conf_int()\n",
        "  return prediction"
      ],
      "metadata": {
        "id": "1zuVU3m92B7b"
      },
      "execution_count": null,
      "outputs": []
    },
    {
      "cell_type": "markdown",
      "source": [
        "# *Modelo Casa*"
      ],
      "metadata": {
        "id": "jEEGKb-OxIqE"
      }
    },
    {
      "cell_type": "code",
      "source": [
        "!unzip \"/content/proyectoIA-main/modeloCasa.zip\""
      ],
      "metadata": {
        "colab": {
          "base_uri": "https://localhost:8080/"
        },
        "id": "mj81fJS2xIqy",
        "outputId": "307a5080-29fd-4bad-97a7-2f7dd1ed67d7"
      },
      "execution_count": null,
      "outputs": [
        {
          "output_type": "stream",
          "name": "stdout",
          "text": [
            "Archive:  /content/proyectoIA-main/modeloCasa.zip\n",
            "  inflating: modeloCasa.joblib       \n"
          ]
        }
      ]
    },
    {
      "cell_type": "code",
      "source": [
        "def modeloCasa(prueba):\n",
        "  filename = '/content/modeloCasa.joblib'\n",
        "  model = joblib.load(filename) \n",
        "  prediction =model.predict([prueba])\n",
        "  return prediction"
      ],
      "metadata": {
        "id": "UnGRGtVxxIqz"
      },
      "execution_count": null,
      "outputs": []
    },
    {
      "cell_type": "markdown",
      "source": [
        "# *Modelo Crímenes*"
      ],
      "metadata": {
        "id": "_RsAU-dKBRk4"
      }
    },
    {
      "cell_type": "code",
      "source": [
        "!unzip \"/content/proyectoIA-main/modeloCrimenes.zip\""
      ],
      "metadata": {
        "colab": {
          "base_uri": "https://localhost:8080/"
        },
        "outputId": "82441da0-1ba8-4175-e342-285feaf71239",
        "id": "nF_CM-Q5BRk5"
      },
      "execution_count": null,
      "outputs": [
        {
          "output_type": "stream",
          "name": "stdout",
          "text": [
            "Archive:  /content/proyectoIA-main/modeloCrimenes.zip\n",
            "  inflating: modeloCrimenes.joblib   \n"
          ]
        }
      ]
    },
    {
      "cell_type": "code",
      "source": [
        "def modeloCrimenes(prueba):\n",
        "  filename = '/content/modeloCrimenes.joblib'\n",
        "  model = joblib.load(filename) \n",
        "  prediction = model.get_prediction(start=prueba, dynamic=False).conf_int()\n",
        "  return prediction"
      ],
      "metadata": {
        "id": "8AiW0bjtBRk6"
      },
      "execution_count": null,
      "outputs": []
    },
    {
      "cell_type": "markdown",
      "source": [
        "# *Modelo Cirrosis*"
      ],
      "metadata": {
        "id": "hbbsmqNPYTAp"
      }
    },
    {
      "cell_type": "code",
      "source": [
        "!unzip \"/content/proyectoIA-main/modeloCirrosis.zip\""
      ],
      "metadata": {
        "id": "UFqhs9EnYTBY",
        "colab": {
          "base_uri": "https://localhost:8080/"
        },
        "outputId": "26fe2a80-97ba-45a9-cc2e-a264b828481a"
      },
      "execution_count": null,
      "outputs": [
        {
          "output_type": "stream",
          "name": "stdout",
          "text": [
            "Archive:  /content/proyectoIA-main/modeloCirrosis.zip\n",
            "  inflating: modeloCirrosis.joblib   \n"
          ]
        }
      ]
    },
    {
      "cell_type": "code",
      "source": [
        "def modeloCirrosis(prueba):\n",
        "  filename = '/content/modeloCirrosis.joblib'\n",
        "  model = joblib.load(filename) \n",
        "  prediction =model.predict([prueba])\n",
        "  return prediction"
      ],
      "metadata": {
        "id": "CJjcw41uYTBa"
      },
      "execution_count": null,
      "outputs": []
    },
    {
      "cell_type": "markdown",
      "source": [
        "# *Modelo Hepatitis*"
      ],
      "metadata": {
        "id": "WSAT9PCFQeHA"
      }
    },
    {
      "cell_type": "code",
      "source": [
        "!unzip \"/content/proyectoIA-main/modeloHepatitis.zip\""
      ],
      "metadata": {
        "colab": {
          "base_uri": "https://localhost:8080/"
        },
        "id": "sG7dOt1uWenw",
        "outputId": "e04ea2fc-c258-40d8-84a4-7b4eed5711ea"
      },
      "execution_count": null,
      "outputs": [
        {
          "output_type": "stream",
          "name": "stdout",
          "text": [
            "Archive:  /content/proyectoIA-main/modeloHepatitis.zip\n",
            "  inflating: modeloHepatitis.joblib  \n"
          ]
        }
      ]
    },
    {
      "cell_type": "code",
      "source": [
        "def modeloHepatitis(prueba):\n",
        "  filename = '/content/modeloHepatitis.joblib'\n",
        "  model = joblib.load(filename) \n",
        "  prediction =model.predict([prueba])\n",
        "  return prediction"
      ],
      "metadata": {
        "id": "E9fYcMBmWn2N"
      },
      "execution_count": null,
      "outputs": []
    },
    {
      "cell_type": "markdown",
      "source": [
        "# *Modelo Masa Corporal*"
      ],
      "metadata": {
        "id": "kY4yQBXuQm0Y"
      }
    },
    {
      "cell_type": "code",
      "source": [
        "!unzip \"/content/proyectoIA-main/modeloMasaCorporal.zip\""
      ],
      "metadata": {
        "colab": {
          "base_uri": "https://localhost:8080/"
        },
        "outputId": "916d38c8-1160-4e71-de20-30a9310fa62d",
        "id": "ShyyDgC7Qm00"
      },
      "execution_count": null,
      "outputs": [
        {
          "output_type": "stream",
          "name": "stdout",
          "text": [
            "Archive:  /content/proyectoIA-main/modeloMasaCorporal.zip\n",
            "  inflating: modeloMasaCorporal.joblib  \n"
          ]
        }
      ]
    },
    {
      "cell_type": "code",
      "source": [
        "def modeloMasaCorporal(prueba):\n",
        "  filename = '/content/modeloMasaCorporal.joblib'\n",
        "  model = joblib.load(filename) \n",
        "  prediction = model.predict(prueba)\n",
        "  print(prediction)\n",
        "  return prediction"
      ],
      "metadata": {
        "id": "YiKCcYYIQm01"
      },
      "execution_count": null,
      "outputs": []
    },
    {
      "cell_type": "markdown",
      "source": [
        "# *Modelo Tesla*"
      ],
      "metadata": {
        "id": "Nw3_hqgCQqXY"
      }
    },
    {
      "cell_type": "code",
      "source": [
        "!unzip \"/content/proyectoIA-main/modeloTesla.zip\""
      ],
      "metadata": {
        "colab": {
          "base_uri": "https://localhost:8080/"
        },
        "outputId": "b0c0489e-997c-4075-9c4f-2e4f0a380ec2",
        "id": "NBcPPiKfQqYA"
      },
      "execution_count": null,
      "outputs": [
        {
          "output_type": "stream",
          "name": "stdout",
          "text": [
            "Archive:  /content/proyectoIA-main/modeloTesla.zip\n",
            "  inflating: modeloTesla.joblib      \n"
          ]
        }
      ]
    },
    {
      "cell_type": "code",
      "source": [
        "def modeloTesla(prueba):\n",
        "  filename = '/content/modeloTesla.joblib'\n",
        "  model = joblib.load(filename) \n",
        "  prediction =model.get_prediction(start=prueba, dynamic=False).conf_int()\n",
        "  return prediction"
      ],
      "metadata": {
        "id": "uIa38MRXQqYC"
      },
      "execution_count": null,
      "outputs": []
    },
    {
      "cell_type": "markdown",
      "source": [
        "# *Modelo Vino*"
      ],
      "metadata": {
        "id": "ZNOmAPsxi8uu"
      }
    },
    {
      "cell_type": "code",
      "source": [
        "!unzip \"/content/proyectoIA-main/modeloVino.zip\""
      ],
      "metadata": {
        "colab": {
          "base_uri": "https://localhost:8080/"
        },
        "outputId": "9e5349cf-bea5-4907-cf9a-1d415073b662",
        "id": "G-5OXpRgi8u1"
      },
      "execution_count": null,
      "outputs": [
        {
          "output_type": "stream",
          "name": "stdout",
          "text": [
            "Archive:  /content/proyectoIA-main/modeloVino.zip\n",
            "  inflating: modeloVino.joblib       \n"
          ]
        }
      ]
    },
    {
      "cell_type": "code",
      "source": [
        "def modeloVino(prueba):\n",
        "  filename = '/content/modeloVino.joblib'\n",
        "  model = joblib.load(filename) \n",
        "  prediction = model.predict([prueba])\n",
        "  return prediction"
      ],
      "metadata": {
        "id": "PGrrfc8Ei8u4"
      },
      "execution_count": null,
      "outputs": []
    },
    {
      "cell_type": "markdown",
      "source": [
        "# **Main**"
      ],
      "metadata": {
        "id": "dXYnZWbwKL0I"
      }
    },
    {
      "cell_type": "code",
      "source": [
        "!curl -s https://ngrok-agent.s3.amazonaws.com/ngrok.asc | sudo tee /etc/apt/trusted.gpg.d/ngrok.asc >/dev/null && echo \"deb https://ngrok-agent.s3.amazonaws.com buster main\" | sudo tee /etc/apt/sources.list.d/ngrok.list && sudo apt update && sudo apt install ngrok   "
      ],
      "metadata": {
        "id": "BdmuiJzvE6uv",
        "colab": {
          "base_uri": "https://localhost:8080/"
        },
        "outputId": "3be0c530-7856-4afa-b477-adff9f58b122"
      },
      "execution_count": null,
      "outputs": [
        {
          "output_type": "stream",
          "name": "stdout",
          "text": [
            "deb https://ngrok-agent.s3.amazonaws.com buster main\n",
            "Get:1 https://cloud.r-project.org/bin/linux/ubuntu bionic-cran40/ InRelease [3,626 B]\n",
            "Ign:2 https://developer.download.nvidia.com/compute/cuda/repos/ubuntu1804/x86_64  InRelease\n",
            "Ign:3 https://developer.download.nvidia.com/compute/machine-learning/repos/ubuntu1804/x86_64  InRelease\n",
            "Get:4 https://developer.download.nvidia.com/compute/cuda/repos/ubuntu1804/x86_64  Release [696 B]\n",
            "Hit:5 https://developer.download.nvidia.com/compute/machine-learning/repos/ubuntu1804/x86_64  Release\n",
            "Get:6 http://security.ubuntu.com/ubuntu bionic-security InRelease [88.7 kB]\n",
            "Get:7 https://developer.download.nvidia.com/compute/cuda/repos/ubuntu1804/x86_64  Release.gpg [836 B]\n",
            "Get:8 http://ppa.launchpad.net/c2d4u.team/c2d4u4.0+/ubuntu bionic InRelease [15.9 kB]\n",
            "Get:9 https://ngrok-agent.s3.amazonaws.com buster InRelease [17.1 kB]\n",
            "Hit:11 http://archive.ubuntu.com/ubuntu bionic InRelease\n",
            "Get:12 https://developer.download.nvidia.com/compute/cuda/repos/ubuntu1804/x86_64  Packages [953 kB]\n",
            "Get:13 http://archive.ubuntu.com/ubuntu bionic-updates InRelease [88.7 kB]\n",
            "Get:14 https://ngrok-agent.s3.amazonaws.com buster/main amd64 Packages [771 B]\n",
            "Hit:15 http://ppa.launchpad.net/cran/libgit2/ubuntu bionic InRelease\n",
            "Get:16 http://security.ubuntu.com/ubuntu bionic-security/main amd64 Packages [2,696 kB]\n",
            "Get:17 http://archive.ubuntu.com/ubuntu bionic-backports InRelease [74.6 kB]\n",
            "Get:18 http://ppa.launchpad.net/deadsnakes/ppa/ubuntu bionic InRelease [15.9 kB]\n",
            "Get:19 http://archive.ubuntu.com/ubuntu bionic-updates/universe amd64 Packages [2,268 kB]\n",
            "Hit:20 http://ppa.launchpad.net/graphics-drivers/ppa/ubuntu bionic InRelease\n",
            "Get:21 http://archive.ubuntu.com/ubuntu bionic-updates/main amd64 Packages [3,135 kB]\n",
            "Get:22 http://security.ubuntu.com/ubuntu bionic-security/universe amd64 Packages [1,490 kB]\n",
            "Get:23 http://ppa.launchpad.net/c2d4u.team/c2d4u4.0+/ubuntu bionic/main Sources [1,947 kB]\n",
            "Get:24 http://ppa.launchpad.net/c2d4u.team/c2d4u4.0+/ubuntu bionic/main amd64 Packages [996 kB]\n",
            "Get:25 http://ppa.launchpad.net/deadsnakes/ppa/ubuntu bionic/main amd64 Packages [45.3 kB]\n",
            "Fetched 13.8 MB in 8s (1,722 kB/s)\n",
            "Reading package lists... Done\n",
            "Building dependency tree       \n",
            "Reading state information... Done\n",
            "45 packages can be upgraded. Run 'apt list --upgradable' to see them.\n",
            "Reading package lists... Done\n",
            "Building dependency tree       \n",
            "Reading state information... Done\n",
            "The following NEW packages will be installed:\n",
            "  ngrok\n",
            "0 upgraded, 1 newly installed, 0 to remove and 45 not upgraded.\n",
            "Need to get 5,444 kB of archives.\n",
            "After this operation, 0 B of additional disk space will be used.\n",
            "Get:1 https://ngrok-agent.s3.amazonaws.com buster/main amd64 ngrok amd64 3.0.2 [5,444 kB]\n",
            "Fetched 5,444 kB in 2s (3,206 kB/s)\n",
            "debconf: unable to initialize frontend: Dialog\n",
            "debconf: (No usable dialog-like program is installed, so the dialog based frontend cannot be used. at /usr/share/perl5/Debconf/FrontEnd/Dialog.pm line 76, <> line 1.)\n",
            "debconf: falling back to frontend: Readline\n",
            "debconf: unable to initialize frontend: Readline\n",
            "debconf: (This frontend requires a controlling tty.)\n",
            "debconf: falling back to frontend: Teletype\n",
            "dpkg-preconfigure: unable to re-open stdin: \n",
            "Selecting previously unselected package ngrok.\n",
            "(Reading database ... 155455 files and directories currently installed.)\n",
            "Preparing to unpack .../archives/ngrok_3.0.2_amd64.deb ...\n",
            "Unpacking ngrok (3.0.2) ...\n",
            "Setting up ngrok (3.0.2) ...\n"
          ]
        }
      ]
    },
    {
      "cell_type": "code",
      "source": [
        "!ls"
      ],
      "metadata": {
        "id": "sB9jNI_yFAl3",
        "colab": {
          "base_uri": "https://localhost:8080/"
        },
        "outputId": "9e204d28-0fe5-490f-a277-790f08289a4c"
      },
      "execution_count": null,
      "outputs": [
        {
          "output_type": "stream",
          "name": "stdout",
          "text": [
            "master.zip\t       modeloCirrosis.joblib\t  modeloVino.joblib\n",
            "modeloAguacate.joblib  modeloCrimenes.joblib\t  proyectoIA-main\n",
            "modeloAuto.joblib      modeloHepatitis.joblib\t  sample_data\n",
            "modeloBitcoin.joblib   modeloMasaCorporal.joblib\n",
            "modeloCasa.joblib      modeloTesla.joblib\n"
          ]
        }
      ]
    },
    {
      "cell_type": "code",
      "source": [
        "!ngrok authtoken 27hjmdOUJSLrZINnkZOzdQ7YKXu_6ezWZZAvPwqwmGcyuSr3u"
      ],
      "metadata": {
        "id": "kZWvG7LYFBgo",
        "colab": {
          "base_uri": "https://localhost:8080/"
        },
        "outputId": "5e4e9df8-4b28-4996-c446-a2cc51006ed5"
      },
      "execution_count": null,
      "outputs": [
        {
          "output_type": "stream",
          "name": "stdout",
          "text": [
            "Authtoken saved to configuration file: /root/.config/ngrok/ngrok.yml\n"
          ]
        }
      ]
    },
    {
      "cell_type": "code",
      "source": [
        "from flask_ngrok import run_with_ngrok\n",
        "from flask import Flask\n",
        "from flask_restful import Api\n",
        "from flask import request\n",
        "from pyngrok import ngrok\n",
        "\n",
        "app = Flask(__name__)\n",
        "api = Api(app)\n",
        "\n",
        "ngrok.set_auth_token(\"27hjmdOUJSLrZINnkZOzdQ7YKXu_6ezWZZAvPwqwmGcyuSr3u\")\n",
        "\n",
        "run_with_ngrok(app)\n",
        "\n",
        "@app.route(\"/\")\n",
        "def index():\n",
        "  return \"<h1>Running Flask!</h1>\"\n",
        "\n",
        "@app.route(\"/modelAguacate\")\n",
        "def modelAguacate():\n",
        "  fecha = request.args.get('fecha')\n",
        "  prueba = pd.to_datetime(fecha)\n",
        "  return modeloAguacate(prueba).to_html()\n",
        "\n",
        "@app.route(\"/modelAuto\")\n",
        "def modelAuto():\n",
        "  fecha = request.args.get('fecha')\n",
        "  prueba = pd.to_datetime(fecha)\n",
        "  print('Retorna: ')\n",
        "  print(modeloAuto(prueba))\n",
        "  return modeloAuto(prueba).to_html()\n",
        "  \n",
        "@app.route(\"/modelBitcoin\")\n",
        "def modelBitcoin():\n",
        "  fecha = request.args.get('fecha')\n",
        "  prueba = pd.to_datetime(fecha)\n",
        "  return modeloBitcoin(prueba).to_html()\n",
        "\n",
        "@app.route(\"/modelCasa\")\n",
        "def modelCasa():\n",
        "  sqft_living = request.args.get('sqft_living')\n",
        "  prueba = np.array([sqft_living])\n",
        "  print('Retorna: ')\n",
        "  df = pd.DataFrame(modeloCasa(prueba), columns = ['Result'])\n",
        "  return df.to_html()\n",
        "\n",
        "@app.route(\"/modelCrimenes\")\n",
        "def modelCrimenes():\n",
        "  fecha = request.args.get('fecha')\n",
        "  prueba = pd.to_datetime(fecha)\n",
        "  return modeloCrimenes(prueba).to_html()\n",
        "\n",
        "@app.route(\"/modelCirrosis\")\n",
        "def modelCirrosis():\n",
        "  N_Days = request.args.get('N_Days')\n",
        "  Status = request.args.get('Status')\n",
        "  Drug = request.args.get('Drug')\n",
        "  Age = request.args.get('Age')\n",
        "  Sex = request.args.get('Sex')\n",
        "  Ascites = request.args.get('Ascites')\n",
        "  Hepatomegaly = request.args.get('Hepatomegaly')\n",
        "  Spiders = request.args.get('Spiders')\n",
        "  Edema = request.args.get('Edema')\n",
        "  Bilirubin = request.args.get('Bilirubin')\n",
        "  Cholesterol = request.args.get('Cholesterol')\n",
        "  Albumin = request.args.get('Albumin')\n",
        "  Copper = request.args.get('Copper')\n",
        "  Alk_Phos = request.args.get('Alk_Phos')\n",
        "  SGOT = request.args.get('SGOT')\n",
        "  Tryglicerides = request.args.get('Tryglicerides')\n",
        "  Platelets = request.args.get('Platelets')\n",
        "  Prothrombin = request.args.get('Prothrombin')\n",
        "  data = np.array([N_Days,Status,Drug,Age,Sex,Ascites,Hepatomegaly,Spiders,Edema,Bilirubin,Cholesterol,Albumin,Copper,Alk_Phos,SGOT,Tryglicerides,Platelets,Prothrombin])\n",
        "  prueba = pd.Series(data)\n",
        "  df = pd.DataFrame(modeloCirrosis(prueba), columns = ['Result'])\n",
        "  return df.to_html()\n",
        "\n",
        "@app.route(\"/modelHepatitis\")\n",
        "def modelHepatitis():\n",
        "  Age = request.args.get('Age')\n",
        "  Sex = request.args.get('Sex')\n",
        "  ALB = request.args.get('ALB')\n",
        "  ALP = request.args.get('ALP')\n",
        "  ALT = request.args.get('ALT')\n",
        "  AST = request.args.get('AST')\n",
        "  BIL = request.args.get('BIL')\n",
        "  CHE = request.args.get('CHE')\n",
        "  CHOL = request.args.get('CHOL')\n",
        "  CREA = request.args.get('CREA')\n",
        "  GGT = request.args.get('GGT')\n",
        "  PROT = request.args.get('PROT')\n",
        "  data = np.array([Age,Sex,ALB,ALP,ALT,AST,BIL,CHE,CHOL,CREA,GGT,PROT])\n",
        "  prueba = pd.Series(data)\n",
        "  df = pd.DataFrame(modeloHepatitis(prueba), columns = ['Result'])\n",
        "  return df.to_html()\n",
        "\n",
        "@app.route(\"/modelMasaCorporal\")\n",
        "def modelMasaCorporal():\n",
        "  Density = request.args.get('Density')\n",
        "  Abdomen = request.args.get('Abdomen')\n",
        "  print('Retorna: ')\n",
        "  dfPrueba =pd.DataFrame()\n",
        "  dfPrueba =dfPrueba.append({'Density': float(Density), 'Abdomen': float(Abdomen)}, ignore_index=True)\n",
        "  df = pd.DataFrame(modeloMasaCorporal(dfPrueba), columns = ['Result'])\n",
        "  return df.to_html()\n",
        "\n",
        "@app.route(\"/modelTesla\")\n",
        "def modelTesla():\n",
        "  fecha = request.args.get('fecha')\n",
        "  prueba = pd.to_datetime(fecha)\n",
        "  return modeloTesla(prueba).to_html()\n",
        "\n",
        "@app.route(\"/modelVino\")\n",
        "def modelVino():\n",
        "  tipo = request.args.get('tipo')\n",
        "  acido = request.args.get('acido')\n",
        "  volatil = request.args.get('volatil')\n",
        "  citric = request.args.get('citric')\n",
        "  sugar = request.args.get('sugar')\n",
        "  chlorides = request.args.get('chlorides')\n",
        "  sulfur  = request.args.get('sulfur')\n",
        "  dioxide = request.args.get('dioxide')\n",
        "  density = request.args.get('density')\n",
        "  pH = request.args.get('pH')\n",
        "  sulphates = request.args.get('sulphates')\n",
        "  alcohol = request.args.get('alcohol')\n",
        "  data = np.array([tipo,acido,volatil,citric,sugar,chlorides,sulfur,dioxide,density,pH,sulphates,alcohol])\n",
        "  prueba = pd.Series(data)\n",
        "  df = pd.DataFrame(modeloVino(prueba), columns = ['Result'])\n",
        "  return df.to_html()\n",
        "  \n",
        "app.run()"
      ],
      "metadata": {
        "id": "NYvj3_UpBDan",
        "colab": {
          "base_uri": "https://localhost:8080/"
        },
        "outputId": "90b4ac2d-935e-40e7-a866-0d4f772ed673"
      },
      "execution_count": null,
      "outputs": [
        {
          "output_type": "stream",
          "name": "stdout",
          "text": [
            " * Serving Flask app \"__main__\" (lazy loading)\n",
            " * Environment: production\n",
            "\u001b[31m   WARNING: This is a development server. Do not use it in a production deployment.\u001b[0m\n",
            "\u001b[2m   Use a production WSGI server instead.\u001b[0m\n",
            " * Debug mode: off\n"
          ]
        },
        {
          "output_type": "stream",
          "name": "stderr",
          "text": [
            " * Running on http://127.0.0.1:5000/ (Press CTRL+C to quit)\n"
          ]
        },
        {
          "output_type": "stream",
          "name": "stdout",
          "text": [
            " * Running on http://7323-35-236-165-110.ngrok.io\n",
            " * Traffic stats available on http://127.0.0.1:4040\n"
          ]
        }
      ]
    }
  ]
}