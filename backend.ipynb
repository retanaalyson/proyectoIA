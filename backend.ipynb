{
  "nbformat": 4,
  "nbformat_minor": 0,
  "metadata": {
    "colab": {
      "name": "BackIA.ipynb",
      "provenance": [],
      "collapsed_sections": [
        "Bf7zOsfi3ty1",
        "NytUKX_57h-d",
        "LwduMJn6KBAN",
        "jEEGKb-OxIqE",
        "_RsAU-dKBRk4",
        "hbbsmqNPYTAp",
        "WSAT9PCFQeHA",
        "kY4yQBXuQm0Y",
        "Nw3_hqgCQqXY",
        "ZNOmAPsxi8uu"
      ],
      "include_colab_link": true
    },
    "kernelspec": {
      "name": "python3",
      "display_name": "Python 3"
    },
    "language_info": {
      "name": "python"
    }
  },
  "cells": [
    {
      "cell_type": "markdown",
      "metadata": {
        "id": "view-in-github",
        "colab_type": "text"
      },
      "source": [
        "<a href=\"https://colab.research.google.com/github/retanaalyson/proyectoIA/blob/main/backend.ipynb\" target=\"_parent\"><img src=\"https://colab.research.google.com/assets/colab-badge.svg\" alt=\"Open In Colab\"/></a>"
      ]
    },
    {
      "cell_type": "code",
      "source": [
        "!pip list\n",
        "!pip install joblib\n",
        "import joblib\n",
        "!pip install flask-restful\n",
        "from statsmodels.iolib.openfile import get_file_obj\n",
        "!pip install json2html\n",
        "from flask import render_template\n",
        "import pandas as pd\n",
        "import numpy as np\n",
        "!pip install flask_ngrok\n",
        "!pip install pyngrok\n",
        "import xgboost as xgb"
      ],
      "metadata": {
        "id": "7p3aDBiEJ-WG"
      },
      "execution_count": null,
      "outputs": []
    },
    {
      "cell_type": "code",
      "source": [
        "!wget https://github.com/retanaalyson/proyectoIA/archive/master.zip"
      ],
      "metadata": {
        "id": "toBXf7CpE-GP"
      },
      "execution_count": null,
      "outputs": []
    },
    {
      "cell_type": "code",
      "source": [
        "!unzip \"/content/master.zip\""
      ],
      "metadata": {
        "id": "-GDe3VfrFFM_"
      },
      "execution_count": null,
      "outputs": []
    },
    {
      "cell_type": "markdown",
      "source": [
        "# *Modelo Aguacate*"
      ],
      "metadata": {
        "id": "Bf7zOsfi3ty1"
      }
    },
    {
      "cell_type": "code",
      "source": [
        "!unzip \"/content/proyectoIA-main/modeloAguacate.zip\""
      ],
      "metadata": {
        "colab": {
          "base_uri": "https://localhost:8080/"
        },
        "outputId": "169bb33d-12a4-4ccf-a4d0-a9ec065dfd4f",
        "id": "23zw9E-t3tzO"
      },
      "execution_count": null,
      "outputs": [
        {
          "output_type": "stream",
          "name": "stdout",
          "text": [
            "Archive:  /content/proyectoIA-main/modeloAguacate.zip\n",
            "  inflating: modeloAguacate.joblib   \n"
          ]
        }
      ]
    },
    {
      "cell_type": "code",
      "source": [
        "def modeloAguacate(prueba):\n",
        "  filename = '/content/modeloAguacate.joblib'\n",
        "  model = joblib.load(filename) \n",
        "  prediction =model.get_prediction(start=prueba, dynamic=False).conf_int()\n",
        "  return prediction"
      ],
      "metadata": {
        "id": "lni3ARb-3tzP"
      },
      "execution_count": null,
      "outputs": []
    },
    {
      "cell_type": "markdown",
      "source": [
        "# *Modelo Automóvil*"
      ],
      "metadata": {
        "id": "NytUKX_57h-d"
      }
    },
    {
      "cell_type": "code",
      "source": [
        "!unzip \"/content/proyectoIA-main/modeloAuto.zip\""
      ],
      "metadata": {
        "colab": {
          "base_uri": "https://localhost:8080/"
        },
        "outputId": "8c740203-230f-4173-9a92-52a285f34608",
        "id": "WrHlew4T7h_G"
      },
      "execution_count": null,
      "outputs": [
        {
          "output_type": "stream",
          "name": "stdout",
          "text": [
            "Archive:  /content/proyectoIA-main/modeloAuto.zip\n",
            "  inflating: modeloAuto.joblib       \n"
          ]
        }
      ]
    },
    {
      "cell_type": "code",
      "source": [
        "def modeloAuto(prueba):\n",
        "  filename = '/content/modeloAuto.joblib'\n",
        "  model = joblib.load(filename) \n",
        "  prediction =model.get_prediction(start=prueba, dynamic=False).conf_int()\n",
        "  return prediction"
      ],
      "metadata": {
        "id": "Fd2a-Qge7h_H"
      },
      "execution_count": null,
      "outputs": []
    },
    {
      "cell_type": "markdown",
      "source": [
        "# *Modelo Bitcoin*"
      ],
      "metadata": {
        "id": "LwduMJn6KBAN"
      }
    },
    {
      "cell_type": "code",
      "source": [
        "!unzip \"/content/proyectoIA-main/modeloBitcoin.zip\""
      ],
      "metadata": {
        "id": "XHfr5s4hFViz",
        "colab": {
          "base_uri": "https://localhost:8080/"
        },
        "outputId": "7d9a9b8f-73dd-4f5d-9886-8cf4678802e4"
      },
      "execution_count": null,
      "outputs": [
        {
          "output_type": "stream",
          "name": "stdout",
          "text": [
            "Archive:  /content/proyectoIA-main/modeloBitcoin.zip\n",
            "  inflating: modeloBitcoin.joblib    \n"
          ]
        }
      ]
    },
    {
      "cell_type": "code",
      "source": [
        "def modeloBitcoin(prueba):\n",
        "  filename = '/content/modeloBitcoin.joblib'\n",
        "  model = joblib.load(filename) \n",
        "  prediction = model.get_prediction(start=prueba, dynamic=False).conf_int()\n",
        "  return prediction"
      ],
      "metadata": {
        "id": "1zuVU3m92B7b"
      },
      "execution_count": null,
      "outputs": []
    },
    {
      "cell_type": "markdown",
      "source": [
        "# *Modelo Casa*"
      ],
      "metadata": {
        "id": "jEEGKb-OxIqE"
      }
    },
    {
      "cell_type": "code",
      "source": [
        "!unzip \"/content/proyectoIA-main/modeloCasa.zip\""
      ],
      "metadata": {
        "colab": {
          "base_uri": "https://localhost:8080/"
        },
        "id": "mj81fJS2xIqy",
        "outputId": "307a5080-29fd-4bad-97a7-2f7dd1ed67d7"
      },
      "execution_count": null,
      "outputs": [
        {
          "output_type": "stream",
          "name": "stdout",
          "text": [
            "Archive:  /content/proyectoIA-main/modeloCasa.zip\n",
            "  inflating: modeloCasa.joblib       \n"
          ]
        }
      ]
    },
    {
      "cell_type": "code",
      "source": [
        "def modeloCasa(prueba):\n",
        "  filename = '/content/modeloCasa.joblib'\n",
        "  model = joblib.load(filename) \n",
        "  prediction =model.predict([prueba])\n",
        "  return prediction"
      ],
      "metadata": {
        "id": "UnGRGtVxxIqz"
      },
      "execution_count": null,
      "outputs": []
    },
    {
      "cell_type": "markdown",
      "source": [
        "# *Modelo Crímenes*"
      ],
      "metadata": {
        "id": "_RsAU-dKBRk4"
      }
    },
    {
      "cell_type": "code",
      "source": [
        "!unzip \"/content/proyectoIA-main/modeloCrimenes.zip\""
      ],
      "metadata": {
        "colab": {
          "base_uri": "https://localhost:8080/"
        },
        "outputId": "82441da0-1ba8-4175-e342-285feaf71239",
        "id": "nF_CM-Q5BRk5"
      },
      "execution_count": null,
      "outputs": [
        {
          "output_type": "stream",
          "name": "stdout",
          "text": [
            "Archive:  /content/proyectoIA-main/modeloCrimenes.zip\n",
            "  inflating: modeloCrimenes.joblib   \n"
          ]
        }
      ]
    },
    {
      "cell_type": "code",
      "source": [
        "def modeloCrimenes(prueba):\n",
        "  filename = '/content/modeloCrimenes.joblib'\n",
        "  model = joblib.load(filename) \n",
        "  prediction = model.get_prediction(start=prueba, dynamic=False).conf_int()\n",
        "  return prediction"
      ],
      "metadata": {
        "id": "8AiW0bjtBRk6"
      },
      "execution_count": null,
      "outputs": []
    },
    {
      "cell_type": "markdown",
      "source": [
        "# *Modelo Cirrosis*"
      ],
      "metadata": {
        "id": "hbbsmqNPYTAp"
      }
    },
    {
      "cell_type": "code",
      "source": [
        "!unzip \"/content/proyectoIA-main/modeloCirrosis.zip\""
      ],
      "metadata": {
        "id": "UFqhs9EnYTBY",
        "colab": {
          "base_uri": "https://localhost:8080/"
        },
        "outputId": "26fe2a80-97ba-45a9-cc2e-a264b828481a"
      },
      "execution_count": null,
      "outputs": [
        {
          "output_type": "stream",
          "name": "stdout",
          "text": [
            "Archive:  /content/proyectoIA-main/modeloCirrosis.zip\n",
            "  inflating: modeloCirrosis.joblib   \n"
          ]
        }
      ]
    },
    {
      "cell_type": "code",
      "source": [
        "def modeloCirrosis(prueba):\n",
        "  filename = '/content/modeloCirrosis.joblib'\n",
        "  model = joblib.load(filename) \n",
        "  prediction =model.predict([prueba])\n",
        "  return prediction"
      ],
      "metadata": {
        "id": "CJjcw41uYTBa"
      },
      "execution_count": null,
      "outputs": []
    },
    {
      "cell_type": "markdown",
      "source": [
        "# *Modelo Hepatitis*"
      ],
      "metadata": {
        "id": "WSAT9PCFQeHA"
      }
    },
    {
      "cell_type": "code",
      "source": [
        "!unzip \"/content/proyectoIA-main/modeloHepatitis.zip\""
      ],
      "metadata": {
        "colab": {
          "base_uri": "https://localhost:8080/"
        },
        "id": "sG7dOt1uWenw",
        "outputId": "e04ea2fc-c258-40d8-84a4-7b4eed5711ea"
      },
      "execution_count": null,
      "outputs": [
        {
          "output_type": "stream",
          "name": "stdout",
          "text": [
            "Archive:  /content/proyectoIA-main/modeloHepatitis.zip\n",
            "  inflating: modeloHepatitis.joblib  \n"
          ]
        }
      ]
    },
    {
      "cell_type": "code",
      "source": [
        "def modeloHepatitis(prueba):\n",
        "  filename = '/content/modeloHepatitis.joblib'\n",
        "  model = joblib.load(filename) \n",
        "  prediction =model.predict([prueba])\n",
        "  return prediction"
      ],
      "metadata": {
        "id": "E9fYcMBmWn2N"
      },
      "execution_count": null,
      "outputs": []
    },
    {
      "cell_type": "markdown",
      "source": [
        "# *Modelo Masa Corporal*"
      ],
      "metadata": {
        "id": "kY4yQBXuQm0Y"
      }
    },
    {
      "cell_type": "code",
      "source": [
        "!unzip \"/content/proyectoIA-main/modeloMasaCorporal.zip\""
      ],
      "metadata": {
        "colab": {
          "base_uri": "https://localhost:8080/"
        },
        "outputId": "916d38c8-1160-4e71-de20-30a9310fa62d",
        "id": "ShyyDgC7Qm00"
      },
      "execution_count": null,
      "outputs": [
        {
          "output_type": "stream",
          "name": "stdout",
          "text": [
            "Archive:  /content/proyectoIA-main/modeloMasaCorporal.zip\n",
            "  inflating: modeloMasaCorporal.joblib  \n"
          ]
        }
      ]
    },
    {
      "cell_type": "code",
      "source": [
        "def modeloMasaCorporal(prueba):\n",
        "  filename = '/content/modeloMasaCorporal.joblib'\n",
        "  model = joblib.load(filename) \n",
        "  prediction = model.predict(prueba)\n",
        "  print(prediction)\n",
        "  return prediction"
      ],
      "metadata": {
        "id": "YiKCcYYIQm01"
      },
      "execution_count": null,
      "outputs": []
    },
    {
      "cell_type": "markdown",
      "source": [
        "# *Modelo Tesla*"
      ],
      "metadata": {
        "id": "Nw3_hqgCQqXY"
      }
    },
    {
      "cell_type": "code",
      "source": [
        "!unzip \"/content/proyectoIA-main/modeloTesla.zip\""
      ],
      "metadata": {
        "colab": {
          "base_uri": "https://localhost:8080/"
        },
        "outputId": "b0c0489e-997c-4075-9c4f-2e4f0a380ec2",
        "id": "NBcPPiKfQqYA"
      },
      "execution_count": null,
      "outputs": [
        {
          "output_type": "stream",
          "name": "stdout",
          "text": [
            "Archive:  /content/proyectoIA-main/modeloTesla.zip\n",
            "  inflating: modeloTesla.joblib      \n"
          ]
        }
      ]
    },
    {
      "cell_type": "code",
      "source": [
        "def modeloTesla(prueba):\n",
        "  filename = '/content/modeloTesla.joblib'\n",
        "  model = joblib.load(filename) \n",
        "  prediction =model.get_prediction(start=prueba, dynamic=False).conf_int()\n",
        "  return prediction"
      ],
      "metadata": {
        "id": "uIa38MRXQqYC"
      },
      "execution_count": null,
      "outputs": []
    },
    {
      "cell_type": "markdown",
      "source": [
        "# *Modelo Vino*"
      ],
      "metadata": {
        "id": "ZNOmAPsxi8uu"
      }
    },
    {
      "cell_type": "code",
      "source": [
        "!unzip \"/content/proyectoIA-main/modeloVino.zip\""
      ],
      "metadata": {
        "colab": {
          "base_uri": "https://localhost:8080/"
        },
        "outputId": "9e5349cf-bea5-4907-cf9a-1d415073b662",
        "id": "G-5OXpRgi8u1"
      },
      "execution_count": null,
      "outputs": [
        {
          "output_type": "stream",
          "name": "stdout",
          "text": [
            "Archive:  /content/proyectoIA-main/modeloVino.zip\n",
            "  inflating: modeloVino.joblib       \n"
          ]
        }
      ]
    },
    {
      "cell_type": "code",
      "source": [
        "def modeloVino(prueba):\n",
        "  filename = '/content/modeloVino.joblib'\n",
        "  model = joblib.load(filename) \n",
        "  prediction = model.predict([prueba])\n",
        "  return prediction"
      ],
      "metadata": {
        "id": "PGrrfc8Ei8u4"
      },
      "execution_count": null,
      "outputs": []
    },
    {
      "cell_type": "markdown",
      "source": [
        "# **Main**"
      ],
      "metadata": {
        "id": "dXYnZWbwKL0I"
      }
    },
    {
      "cell_type": "code",
      "source": [
        "!curl -s https://ngrok-agent.s3.amazonaws.com/ngrok.asc | sudo tee /etc/apt/trusted.gpg.d/ngrok.asc >/dev/null && echo \"deb https://ngrok-agent.s3.amazonaws.com buster main\" | sudo tee /etc/apt/sources.list.d/ngrok.list && sudo apt update && sudo apt install ngrok   "
      ],
      "metadata": {
        "id": "BdmuiJzvE6uv"
      },
      "execution_count": null,
      "outputs": []
    },
    {
      "cell_type": "code",
      "source": [
        "!ls"
      ],
      "metadata": {
        "id": "sB9jNI_yFAl3"
      },
      "execution_count": null,
      "outputs": []
    },
    {
      "cell_type": "code",
      "source": [
        "!ngrok authtoken 27hjmdOUJSLrZINnkZOzdQ7YKXu_6ezWZZAvPwqwmGcyuSr3u"
      ],
      "metadata": {
        "id": "kZWvG7LYFBgo"
      },
      "execution_count": null,
      "outputs": []
    },
    {
      "cell_type": "code",
      "source": [
        "from flask_ngrok import run_with_ngrok\n",
        "from flask import Flask\n",
        "from flask_restful import Api\n",
        "from flask import request\n",
        "from pyngrok import ngrok\n",
        "\n",
        "app = Flask(__name__)\n",
        "api = Api(app)\n",
        "\n",
        "ngrok.set_auth_token(\"27hjmdOUJSLrZINnkZOzdQ7YKXu_6ezWZZAvPwqwmGcyuSr3u\")\n",
        "\n",
        "run_with_ngrok(app)\n",
        "\n",
        "@app.route(\"/\")\n",
        "def index():\n",
        "  return \"<h1>Running Flask!</h1>\"\n",
        "\n",
        "@app.route(\"/modelAguacate\")\n",
        "def modelAguacate():\n",
        "  fecha = request.args.get('fecha')\n",
        "  prueba = pd.to_datetime(fecha)\n",
        "  return modeloAguacate(prueba).to_html()\n",
        "\n",
        "@app.route(\"/modelAuto\")\n",
        "def modelAuto():\n",
        "  fecha = request.args.get('fecha')\n",
        "  prueba = pd.to_datetime(fecha)\n",
        "  print('Retorna: ')\n",
        "  print(modeloAuto(prueba))\n",
        "  return modeloAuto(prueba).to_html()\n",
        "  \n",
        "@app.route(\"/modelBitcoin\")\n",
        "def modelBitcoin():\n",
        "  fecha = request.args.get('fecha')\n",
        "  prueba = pd.to_datetime(fecha)\n",
        "  return modeloBitcoin(prueba).to_html()\n",
        "\n",
        "@app.route(\"/modelCasa\")\n",
        "def modelCasa():\n",
        "  sqft_living = request.args.get('sqft_living')\n",
        "  prueba = np.array([sqft_living])\n",
        "  print('Retorna: ')\n",
        "  df = pd.DataFrame(modeloCasa(prueba), columns = ['Result'])\n",
        "  return df.to_html()\n",
        "\n",
        "@app.route(\"/modelCrimenes\")\n",
        "def modelCrimenes():\n",
        "  fecha = request.args.get('fecha')\n",
        "  prueba = pd.to_datetime(fecha)\n",
        "  return modeloCrimenes(prueba).to_html()\n",
        "\n",
        "@app.route(\"/modelCirrosis\")\n",
        "def modelCirrosis():\n",
        "  N_Days = request.args.get('N_Days')\n",
        "  Status = request.args.get('Status')\n",
        "  Drug = request.args.get('Drug')\n",
        "  Age = request.args.get('Age')\n",
        "  Sex = request.args.get('Sex')\n",
        "  Ascites = request.args.get('Ascites')\n",
        "  Hepatomegaly = request.args.get('Hepatomegaly')\n",
        "  Spiders = request.args.get('Spiders')\n",
        "  Edema = request.args.get('Edema')\n",
        "  Bilirubin = request.args.get('Bilirubin')\n",
        "  Cholesterol = request.args.get('Cholesterol')\n",
        "  Albumin = request.args.get('Albumin')\n",
        "  Copper = request.args.get('Copper')\n",
        "  Alk_Phos = request.args.get('Alk_Phos')\n",
        "  SGOT = request.args.get('SGOT')\n",
        "  Tryglicerides = request.args.get('Tryglicerides')\n",
        "  Platelets = request.args.get('Platelets')\n",
        "  Prothrombin = request.args.get('Prothrombin')\n",
        "  data = np.array([N_Days,Status,Drug,Age,Sex,Ascites,Hepatomegaly,Spiders,Edema,Bilirubin,Cholesterol,Albumin,Copper,Alk_Phos,SGOT,Tryglicerides,Platelets,Prothrombin])\n",
        "  prueba = pd.Series(data)\n",
        "  df = pd.DataFrame(modeloCirrosis(prueba), columns = ['Result'])\n",
        "  return df.to_html()\n",
        "\n",
        "@app.route(\"/modelHepatitis\")\n",
        "def modelHepatitis():\n",
        "  Age = request.args.get('Age')\n",
        "  Sex = request.args.get('Sex')\n",
        "  ALB = request.args.get('ALB')\n",
        "  ALP = request.args.get('ALP')\n",
        "  ALT = request.args.get('ALT')\n",
        "  AST = request.args.get('AST')\n",
        "  BIL = request.args.get('BIL')\n",
        "  CHE = request.args.get('CHE')\n",
        "  CHOL = request.args.get('CHOL')\n",
        "  CREA = request.args.get('CREA')\n",
        "  GGT = request.args.get('GGT')\n",
        "  PROT = request.args.get('PROT')\n",
        "  data = np.array([Age,Sex,ALB,ALP,ALT,AST,BIL,CHE,CHOL,CREA,GGT,PROT])\n",
        "  prueba = pd.Series(data)\n",
        "  df = pd.DataFrame(modeloHepatitis(prueba), columns = ['Result'])\n",
        "  return df.to_html()\n",
        "\n",
        "@app.route(\"/modelMasaCorporal\")\n",
        "def modelMasaCorporal():\n",
        "  Density = request.args.get('Density')\n",
        "  Abdomen = request.args.get('Abdomen')\n",
        "  print('Retorna: ')\n",
        "  dfPrueba =pd.DataFrame()\n",
        "  dfPrueba =dfPrueba.append({'Density': float(Density), 'Abdomen': float(Abdomen)}, ignore_index=True)\n",
        "  df = pd.DataFrame(modeloMasaCorporal(dfPrueba), columns = ['Result'])\n",
        "  return df.to_html()\n",
        "\n",
        "@app.route(\"/modelTesla\")\n",
        "def modelTesla():\n",
        "  fecha = request.args.get('fecha')\n",
        "  prueba = pd.to_datetime(fecha)\n",
        "  return modeloTesla(prueba).to_html()\n",
        "\n",
        "@app.route(\"/modelVino\")\n",
        "def modelVino():\n",
        "  tipo = request.args.get('tipo')\n",
        "  acido = request.args.get('acido')\n",
        "  volatil = request.args.get('volatil')\n",
        "  citric = request.args.get('citric')\n",
        "  sugar = request.args.get('sugar')\n",
        "  chlorides = request.args.get('chlorides')\n",
        "  sulfur  = request.args.get('sulfur')\n",
        "  dioxide = request.args.get('dioxide')\n",
        "  density = request.args.get('density')\n",
        "  pH = request.args.get('pH')\n",
        "  sulphates = request.args.get('sulphates')\n",
        "  alcohol = request.args.get('alcohol')\n",
        "  data = np.array([tipo,acido,volatil,citric,sugar,chlorides,sulfur,dioxide,density,pH,sulphates,alcohol])\n",
        "  prueba = pd.Series(data)\n",
        "  df = pd.DataFrame(modeloVino(prueba), columns = ['Result'])\n",
        "  return df.to_html()\n",
        "  \n",
        "app.run()"
      ],
      "metadata": {
        "id": "NYvj3_UpBDan",
        "colab": {
          "base_uri": "https://localhost:8080/"
        },
        "outputId": "90b4ac2d-935e-40e7-a866-0d4f772ed673"
      },
      "execution_count": null,
      "outputs": [
        {
          "output_type": "stream",
          "name": "stdout",
          "text": [
            " * Serving Flask app \"__main__\" (lazy loading)\n",
            " * Environment: production\n",
            "\u001b[31m   WARNING: This is a development server. Do not use it in a production deployment.\u001b[0m\n",
            "\u001b[2m   Use a production WSGI server instead.\u001b[0m\n",
            " * Debug mode: off\n"
          ]
        },
        {
          "output_type": "stream",
          "name": "stderr",
          "text": [
            " * Running on http://127.0.0.1:5000/ (Press CTRL+C to quit)\n"
          ]
        },
        {
          "output_type": "stream",
          "name": "stdout",
          "text": [
            " * Running on http://7323-35-236-165-110.ngrok.io\n",
            " * Traffic stats available on http://127.0.0.1:4040\n"
          ]
        }
      ]
    }
  ]
}