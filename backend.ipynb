{
  "cells": [
    {
      "cell_type": "markdown",
      "metadata": {
        "id": "view-in-github",
        "colab_type": "text"
      },
      "source": [
        "<a href=\"https://colab.research.google.com/github/retanaalyson/proyectoIA/blob/main/backend.ipynb\" target=\"_parent\"><img src=\"https://colab.research.google.com/assets/colab-badge.svg\" alt=\"Open In Colab\"/></a>"
      ]
    },
    {
      "cell_type": "code",
      "execution_count": 1,
      "metadata": {
        "colab": {
          "base_uri": "https://localhost:8080/"
        },
        "id": "7p3aDBiEJ-WG",
        "outputId": "ab59376d-ba10-4a51-d69e-6bdb8cc74646"
      },
      "outputs": [
        {
          "output_type": "stream",
          "name": "stdout",
          "text": [
            "Package                       Version\n",
            "----------------------------- ---------------------\n",
            "absl-py                       1.0.0\n",
            "alabaster                     0.7.12\n",
            "albumentations                0.1.12\n",
            "altair                        4.2.0\n",
            "appdirs                       1.4.4\n",
            "argon2-cffi                   21.3.0\n",
            "argon2-cffi-bindings          21.2.0\n",
            "arviz                         0.12.0\n",
            "astor                         0.8.1\n",
            "astropy                       4.3.1\n",
            "astunparse                    1.6.3\n",
            "atari-py                      0.2.9\n",
            "atomicwrites                  1.4.0\n",
            "attrs                         21.4.0\n",
            "audioread                     2.1.9\n",
            "autograd                      1.4\n",
            "Babel                         2.9.1\n",
            "backcall                      0.2.0\n",
            "beautifulsoup4                4.6.3\n",
            "bleach                        5.0.0\n",
            "blis                          0.4.1\n",
            "bokeh                         2.3.3\n",
            "Bottleneck                    1.3.4\n",
            "branca                        0.4.2\n",
            "bs4                           0.0.1\n",
            "CacheControl                  0.12.10\n",
            "cached-property               1.5.2\n",
            "cachetools                    4.2.4\n",
            "catalogue                     1.0.0\n",
            "certifi                       2021.10.8\n",
            "cffi                          1.15.0\n",
            "cftime                        1.6.0\n",
            "chardet                       3.0.4\n",
            "charset-normalizer            2.0.12\n",
            "click                         7.1.2\n",
            "cloudpickle                   1.3.0\n",
            "cmake                         3.12.0\n",
            "cmdstanpy                     0.9.5\n",
            "colorcet                      3.0.0\n",
            "colorlover                    0.3.0\n",
            "community                     1.0.0b1\n",
            "contextlib2                   0.5.5\n",
            "convertdate                   2.4.0\n",
            "coverage                      3.7.1\n",
            "coveralls                     0.5\n",
            "crcmod                        1.7\n",
            "cufflinks                     0.17.3\n",
            "cvxopt                        1.2.7\n",
            "cvxpy                         1.0.31\n",
            "cycler                        0.11.0\n",
            "cymem                         2.0.6\n",
            "Cython                        0.29.28\n",
            "daft                          0.0.4\n",
            "dask                          2.12.0\n",
            "datascience                   0.10.6\n",
            "debugpy                       1.0.0\n",
            "decorator                     4.4.2\n",
            "defusedxml                    0.7.1\n",
            "descartes                     1.1.0\n",
            "dill                          0.3.4\n",
            "distributed                   1.25.3\n",
            "dlib                          19.18.0\n",
            "dm-tree                       0.1.7\n",
            "docopt                        0.6.2\n",
            "docutils                      0.17.1\n",
            "dopamine-rl                   1.0.5\n",
            "earthengine-api               0.1.306\n",
            "easydict                      1.9\n",
            "ecos                          2.0.10\n",
            "editdistance                  0.5.3\n",
            "en-core-web-sm                2.2.5\n",
            "entrypoints                   0.4\n",
            "ephem                         4.1.3\n",
            "et-xmlfile                    1.1.0\n",
            "fa2                           0.3.5\n",
            "fastai                        1.0.61\n",
            "fastdtw                       0.3.4\n",
            "fastjsonschema                2.15.3\n",
            "fastprogress                  1.0.2\n",
            "fastrlock                     0.8\n",
            "fbprophet                     0.7.1\n",
            "feather-format                0.4.1\n",
            "filelock                      3.6.0\n",
            "firebase-admin                4.4.0\n",
            "fix-yahoo-finance             0.0.22\n",
            "Flask                         1.1.4\n",
            "flatbuffers                   2.0\n",
            "folium                        0.8.3\n",
            "future                        0.16.0\n",
            "gast                          0.5.3\n",
            "GDAL                          2.2.2\n",
            "gdown                         4.4.0\n",
            "gensim                        3.6.0\n",
            "geographiclib                 1.52\n",
            "geopy                         1.17.0\n",
            "gin-config                    0.5.0\n",
            "glob2                         0.7\n",
            "google                        2.0.3\n",
            "google-api-core               1.31.5\n",
            "google-api-python-client      1.12.11\n",
            "google-auth                   1.35.0\n",
            "google-auth-httplib2          0.0.4\n",
            "google-auth-oauthlib          0.4.6\n",
            "google-cloud-bigquery         1.21.0\n",
            "google-cloud-bigquery-storage 1.1.1\n",
            "google-cloud-core             1.0.3\n",
            "google-cloud-datastore        1.8.0\n",
            "google-cloud-firestore        1.7.0\n",
            "google-cloud-language         1.2.0\n",
            "google-cloud-storage          1.18.1\n",
            "google-cloud-translate        1.5.0\n",
            "google-colab                  1.0.0\n",
            "google-pasta                  0.2.0\n",
            "google-resumable-media        0.4.1\n",
            "googleapis-common-protos      1.56.0\n",
            "googledrivedownloader         0.4\n",
            "graphviz                      0.10.1\n",
            "greenlet                      1.1.2\n",
            "grpcio                        1.44.0\n",
            "gspread                       3.4.2\n",
            "gspread-dataframe             3.0.8\n",
            "gym                           0.17.3\n",
            "h5py                          3.1.0\n",
            "HeapDict                      1.0.1\n",
            "hijri-converter               2.2.3\n",
            "holidays                      0.10.5.2\n",
            "holoviews                     1.14.8\n",
            "html5lib                      1.0.1\n",
            "httpimport                    0.5.18\n",
            "httplib2                      0.17.4\n",
            "httplib2shim                  0.0.3\n",
            "humanize                      0.5.1\n",
            "hyperopt                      0.1.2\n",
            "ideep4py                      2.0.0.post3\n",
            "idna                          2.10\n",
            "imageio                       2.4.1\n",
            "imagesize                     1.3.0\n",
            "imbalanced-learn              0.8.1\n",
            "imblearn                      0.0\n",
            "imgaug                        0.2.9\n",
            "importlib-metadata            4.11.3\n",
            "importlib-resources           5.7.0\n",
            "imutils                       0.5.4\n",
            "inflect                       2.1.0\n",
            "iniconfig                     1.1.1\n",
            "intel-openmp                  2022.0.2\n",
            "intervaltree                  2.1.0\n",
            "ipykernel                     4.10.1\n",
            "ipython                       5.5.0\n",
            "ipython-genutils              0.2.0\n",
            "ipython-sql                   0.3.9\n",
            "ipywidgets                    7.7.0\n",
            "itsdangerous                  1.1.0\n",
            "jax                           0.3.4\n",
            "jaxlib                        0.3.2+cuda11.cudnn805\n",
            "jedi                          0.18.1\n",
            "jieba                         0.42.1\n",
            "Jinja2                        2.11.3\n",
            "joblib                        1.1.0\n",
            "jpeg4py                       0.1.4\n",
            "jsonschema                    4.3.3\n",
            "jupyter                       1.0.0\n",
            "jupyter-client                5.3.5\n",
            "jupyter-console               5.2.0\n",
            "jupyter-core                  4.9.2\n",
            "jupyterlab-pygments           0.2.2\n",
            "jupyterlab-widgets            1.1.0\n",
            "kaggle                        1.5.12\n",
            "kapre                         0.3.7\n",
            "keras                         2.8.0\n",
            "Keras-Preprocessing           1.1.2\n",
            "keras-vis                     0.4.1\n",
            "kiwisolver                    1.4.2\n",
            "korean-lunar-calendar         0.2.1\n",
            "libclang                      13.0.0\n",
            "librosa                       0.8.1\n",
            "lightgbm                      2.2.3\n",
            "llvmlite                      0.34.0\n",
            "lmdb                          0.99\n",
            "LunarCalendar                 0.0.9\n",
            "lxml                          4.2.6\n",
            "Markdown                      3.3.6\n",
            "MarkupSafe                    2.0.1\n",
            "matplotlib                    3.2.2\n",
            "matplotlib-inline             0.1.3\n",
            "matplotlib-venn               0.11.7\n",
            "missingno                     0.5.1\n",
            "mistune                       0.8.4\n",
            "mizani                        0.6.0\n",
            "mkl                           2019.0\n",
            "mlxtend                       0.14.0\n",
            "more-itertools                8.12.0\n",
            "moviepy                       0.2.3.5\n",
            "mpmath                        1.2.1\n",
            "msgpack                       1.0.3\n",
            "multiprocess                  0.70.12.2\n",
            "multitasking                  0.0.10\n",
            "murmurhash                    1.0.6\n",
            "music21                       5.5.0\n",
            "natsort                       5.5.0\n",
            "nbclient                      0.6.0\n",
            "nbconvert                     5.6.1\n",
            "nbformat                      5.3.0\n",
            "nest-asyncio                  1.5.5\n",
            "netCDF4                       1.5.8\n",
            "networkx                      2.6.3\n",
            "nibabel                       3.0.2\n",
            "nltk                          3.2.5\n",
            "notebook                      5.3.1\n",
            "numba                         0.51.2\n",
            "numexpr                       2.8.1\n",
            "numpy                         1.21.6\n",
            "nvidia-ml-py3                 7.352.0\n",
            "oauth2client                  4.1.3\n",
            "oauthlib                      3.2.0\n",
            "okgrade                       0.4.3\n",
            "opencv-contrib-python         4.1.2.30\n",
            "opencv-python                 4.1.2.30\n",
            "openpyxl                      3.0.9\n",
            "opt-einsum                    3.3.0\n",
            "osqp                          0.6.2.post0\n",
            "packaging                     21.3\n",
            "palettable                    3.3.0\n",
            "pandas                        1.3.5\n",
            "pandas-datareader             0.9.0\n",
            "pandas-gbq                    0.13.3\n",
            "pandas-profiling              1.4.1\n",
            "pandocfilters                 1.5.0\n",
            "panel                         0.12.1\n",
            "param                         1.12.1\n",
            "parso                         0.8.3\n",
            "pathlib                       1.0.1\n",
            "patsy                         0.5.2\n",
            "pep517                        0.12.0\n",
            "pexpect                       4.8.0\n",
            "pickleshare                   0.7.5\n",
            "Pillow                        7.1.2\n",
            "pip                           21.1.3\n",
            "pip-tools                     6.2.0\n",
            "plac                          1.1.3\n",
            "plotly                        5.5.0\n",
            "plotnine                      0.6.0\n",
            "pluggy                        0.7.1\n",
            "pooch                         1.6.0\n",
            "portpicker                    1.3.9\n",
            "prefetch-generator            1.0.1\n",
            "preshed                       3.0.6\n",
            "prettytable                   3.2.0\n",
            "progressbar2                  3.38.0\n",
            "prometheus-client             0.14.1\n",
            "promise                       2.3\n",
            "prompt-toolkit                1.0.18\n",
            "protobuf                      3.17.3\n",
            "psutil                        5.4.8\n",
            "psycopg2                      2.7.6.1\n",
            "ptyprocess                    0.7.0\n",
            "py                            1.11.0\n",
            "pyarrow                       6.0.1\n",
            "pyasn1                        0.4.8\n",
            "pyasn1-modules                0.2.8\n",
            "pycocotools                   2.0.4\n",
            "pycparser                     2.21\n",
            "pyct                          0.4.8\n",
            "pydata-google-auth            1.4.0\n",
            "pydot                         1.3.0\n",
            "pydot-ng                      2.0.0\n",
            "pydotplus                     2.0.2\n",
            "PyDrive                       1.3.1\n",
            "pyemd                         0.5.1\n",
            "pyerfa                        2.0.0.1\n",
            "pyglet                        1.5.0\n",
            "Pygments                      2.6.1\n",
            "pygobject                     3.26.1\n",
            "pymc3                         3.11.4\n",
            "PyMeeus                       0.5.11\n",
            "pymongo                       4.1.1\n",
            "pymystem3                     0.2.0\n",
            "PyOpenGL                      3.1.6\n",
            "pyparsing                     3.0.8\n",
            "pyrsistent                    0.18.1\n",
            "pysndfile                     1.3.8\n",
            "PySocks                       1.7.1\n",
            "pystan                        2.19.1.1\n",
            "pytest                        3.6.4\n",
            "python-apt                    0.0.0\n",
            "python-chess                  0.23.11\n",
            "python-dateutil               2.8.2\n",
            "python-louvain                0.16\n",
            "python-slugify                6.1.1\n",
            "python-utils                  3.1.0\n",
            "pytz                          2022.1\n",
            "pyviz-comms                   2.2.0\n",
            "PyWavelets                    1.3.0\n",
            "PyYAML                        3.13\n",
            "pyzmq                         22.3.0\n",
            "qdldl                         0.1.5.post2\n",
            "qtconsole                     5.3.0\n",
            "QtPy                          2.0.1\n",
            "regex                         2019.12.20\n",
            "requests                      2.23.0\n",
            "requests-oauthlib             1.3.1\n",
            "resampy                       0.2.2\n",
            "rpy2                          3.4.5\n",
            "rsa                           4.8\n",
            "scikit-image                  0.18.3\n",
            "scikit-learn                  1.0.2\n",
            "scipy                         1.4.1\n",
            "screen-resolution-extra       0.0.0\n",
            "scs                           3.2.0\n",
            "seaborn                       0.11.2\n",
            "semver                        2.13.0\n",
            "Send2Trash                    1.8.0\n",
            "setuptools                    57.4.0\n",
            "setuptools-git                1.2\n",
            "Shapely                       1.8.1.post1\n",
            "simplegeneric                 0.8.1\n",
            "six                           1.15.0\n",
            "sklearn                       0.0\n",
            "sklearn-pandas                1.8.0\n",
            "smart-open                    5.2.1\n",
            "snowballstemmer               2.2.0\n",
            "sortedcontainers              2.4.0\n",
            "SoundFile                     0.10.3.post1\n",
            "soupsieve                     2.3.2.post1\n",
            "spacy                         2.2.4\n",
            "Sphinx                        1.8.6\n",
            "sphinxcontrib-serializinghtml 1.1.5\n",
            "sphinxcontrib-websupport      1.2.4\n",
            "SQLAlchemy                    1.4.35\n",
            "sqlparse                      0.4.2\n",
            "srsly                         1.0.5\n",
            "statsmodels                   0.10.2\n",
            "sympy                         1.7.1\n",
            "tables                        3.7.0\n",
            "tabulate                      0.8.9\n",
            "tblib                         1.7.0\n",
            "tenacity                      8.0.1\n",
            "tensorboard                   2.8.0\n",
            "tensorboard-data-server       0.6.1\n",
            "tensorboard-plugin-wit        1.8.1\n",
            "tensorflow                    2.8.0\n",
            "tensorflow-datasets           4.0.1\n",
            "tensorflow-estimator          2.8.0\n",
            "tensorflow-gcs-config         2.8.0\n",
            "tensorflow-hub                0.12.0\n",
            "tensorflow-io-gcs-filesystem  0.24.0\n",
            "tensorflow-metadata           1.7.0\n",
            "tensorflow-probability        0.16.0\n",
            "termcolor                     1.1.0\n",
            "terminado                     0.13.3\n",
            "testpath                      0.6.0\n",
            "text-unidecode                1.3\n",
            "textblob                      0.15.3\n",
            "Theano-PyMC                   1.1.2\n",
            "thinc                         7.4.0\n",
            "threadpoolctl                 3.1.0\n",
            "tifffile                      2021.11.2\n",
            "tinycss2                      1.1.1\n",
            "tomli                         2.0.1\n",
            "toolz                         0.11.2\n",
            "torch                         1.10.0+cu111\n",
            "torchaudio                    0.10.0+cu111\n",
            "torchsummary                  1.5.1\n",
            "torchtext                     0.11.0\n",
            "torchvision                   0.11.1+cu111\n",
            "tornado                       5.1.1\n",
            "tqdm                          4.64.0\n",
            "traitlets                     5.1.1\n",
            "tweepy                        3.10.0\n",
            "typeguard                     2.7.1\n",
            "typing-extensions             4.1.1\n",
            "tzlocal                       1.5.1\n",
            "uritemplate                   3.0.1\n",
            "urllib3                       1.24.3\n",
            "vega-datasets                 0.9.0\n",
            "wasabi                        0.9.1\n",
            "wcwidth                       0.2.5\n",
            "webencodings                  0.5.1\n",
            "Werkzeug                      1.0.1\n",
            "wheel                         0.37.1\n",
            "widgetsnbextension            3.6.0\n",
            "wordcloud                     1.5.0\n",
            "wrapt                         1.14.0\n",
            "xarray                        0.18.2\n",
            "xgboost                       0.90\n",
            "xkit                          0.0.0\n",
            "xlrd                          1.1.0\n",
            "xlwt                          1.3.0\n",
            "yellowbrick                   1.4\n",
            "zict                          2.1.0\n",
            "zipp                          3.8.0\n",
            "Requirement already satisfied: joblib in /usr/local/lib/python3.7/dist-packages (1.1.0)\n",
            "Collecting flask-restful\n",
            "  Downloading Flask_RESTful-0.3.9-py2.py3-none-any.whl (25 kB)\n",
            "Requirement already satisfied: pytz in /usr/local/lib/python3.7/dist-packages (from flask-restful) (2022.1)\n",
            "Requirement already satisfied: Flask>=0.8 in /usr/local/lib/python3.7/dist-packages (from flask-restful) (1.1.4)\n",
            "Collecting aniso8601>=0.82\n",
            "  Downloading aniso8601-9.0.1-py2.py3-none-any.whl (52 kB)\n",
            "\u001b[K     |████████████████████████████████| 52 kB 1.4 MB/s \n",
            "\u001b[?25hRequirement already satisfied: six>=1.3.0 in /usr/local/lib/python3.7/dist-packages (from flask-restful) (1.15.0)\n",
            "Requirement already satisfied: click<8.0,>=5.1 in /usr/local/lib/python3.7/dist-packages (from Flask>=0.8->flask-restful) (7.1.2)\n",
            "Requirement already satisfied: Werkzeug<2.0,>=0.15 in /usr/local/lib/python3.7/dist-packages (from Flask>=0.8->flask-restful) (1.0.1)\n",
            "Requirement already satisfied: itsdangerous<2.0,>=0.24 in /usr/local/lib/python3.7/dist-packages (from Flask>=0.8->flask-restful) (1.1.0)\n",
            "Requirement already satisfied: Jinja2<3.0,>=2.10.1 in /usr/local/lib/python3.7/dist-packages (from Flask>=0.8->flask-restful) (2.11.3)\n",
            "Requirement already satisfied: MarkupSafe>=0.23 in /usr/local/lib/python3.7/dist-packages (from Jinja2<3.0,>=2.10.1->Flask>=0.8->flask-restful) (2.0.1)\n",
            "Installing collected packages: aniso8601, flask-restful\n",
            "Successfully installed aniso8601-9.0.1 flask-restful-0.3.9\n"
          ]
        },
        {
          "output_type": "stream",
          "name": "stderr",
          "text": [
            "/usr/local/lib/python3.7/dist-packages/statsmodels/tools/_testing.py:19: FutureWarning: pandas.util.testing is deprecated. Use the functions in the public API at pandas.testing instead.\n",
            "  import pandas.util.testing as tm\n"
          ]
        },
        {
          "output_type": "stream",
          "name": "stdout",
          "text": [
            "Collecting json2html\n",
            "  Downloading json2html-1.3.0.tar.gz (7.0 kB)\n",
            "Building wheels for collected packages: json2html\n",
            "  Building wheel for json2html (setup.py) ... \u001b[?25l\u001b[?25hdone\n",
            "  Created wheel for json2html: filename=json2html-1.3.0-py3-none-any.whl size=7609 sha256=3d263af6df0a2c2a6525b9fb10f6800ebbeca9170d189fc919f67b5d1f237b8e\n",
            "  Stored in directory: /root/.cache/pip/wheels/e5/99/37/e1839a5ad733e0d6abb7e0419fd913e8926ddf96408239ce01\n",
            "Successfully built json2html\n",
            "Installing collected packages: json2html\n",
            "Successfully installed json2html-1.3.0\n",
            "Collecting flask_ngrok\n",
            "  Downloading flask_ngrok-0.0.25-py3-none-any.whl (3.1 kB)\n",
            "Requirement already satisfied: Flask>=0.8 in /usr/local/lib/python3.7/dist-packages (from flask_ngrok) (1.1.4)\n",
            "Requirement already satisfied: requests in /usr/local/lib/python3.7/dist-packages (from flask_ngrok) (2.23.0)\n",
            "Requirement already satisfied: Jinja2<3.0,>=2.10.1 in /usr/local/lib/python3.7/dist-packages (from Flask>=0.8->flask_ngrok) (2.11.3)\n",
            "Requirement already satisfied: itsdangerous<2.0,>=0.24 in /usr/local/lib/python3.7/dist-packages (from Flask>=0.8->flask_ngrok) (1.1.0)\n",
            "Requirement already satisfied: click<8.0,>=5.1 in /usr/local/lib/python3.7/dist-packages (from Flask>=0.8->flask_ngrok) (7.1.2)\n",
            "Requirement already satisfied: Werkzeug<2.0,>=0.15 in /usr/local/lib/python3.7/dist-packages (from Flask>=0.8->flask_ngrok) (1.0.1)\n",
            "Requirement already satisfied: MarkupSafe>=0.23 in /usr/local/lib/python3.7/dist-packages (from Jinja2<3.0,>=2.10.1->Flask>=0.8->flask_ngrok) (2.0.1)\n",
            "Requirement already satisfied: chardet<4,>=3.0.2 in /usr/local/lib/python3.7/dist-packages (from requests->flask_ngrok) (3.0.4)\n",
            "Requirement already satisfied: urllib3!=1.25.0,!=1.25.1,<1.26,>=1.21.1 in /usr/local/lib/python3.7/dist-packages (from requests->flask_ngrok) (1.24.3)\n",
            "Requirement already satisfied: idna<3,>=2.5 in /usr/local/lib/python3.7/dist-packages (from requests->flask_ngrok) (2.10)\n",
            "Requirement already satisfied: certifi>=2017.4.17 in /usr/local/lib/python3.7/dist-packages (from requests->flask_ngrok) (2021.10.8)\n",
            "Installing collected packages: flask-ngrok\n",
            "Successfully installed flask-ngrok-0.0.25\n",
            "Collecting pyngrok\n",
            "  Downloading pyngrok-5.1.0.tar.gz (745 kB)\n",
            "\u001b[K     |████████████████████████████████| 745 kB 25.7 MB/s \n",
            "\u001b[?25hRequirement already satisfied: PyYAML in /usr/local/lib/python3.7/dist-packages (from pyngrok) (3.13)\n",
            "Building wheels for collected packages: pyngrok\n",
            "  Building wheel for pyngrok (setup.py) ... \u001b[?25l\u001b[?25hdone\n",
            "  Created wheel for pyngrok: filename=pyngrok-5.1.0-py3-none-any.whl size=19007 sha256=5d3ec89d1ebd09fdd7c7133a6ccfa4466d6b74f1491289b529e8a5b419d12b82\n",
            "  Stored in directory: /root/.cache/pip/wheels/bf/e6/af/ccf6598ecefecd44104069371795cb9b3afbcd16987f6ccfb3\n",
            "Successfully built pyngrok\n",
            "Installing collected packages: pyngrok\n",
            "Successfully installed pyngrok-5.1.0\n"
          ]
        }
      ],
      "source": [
        "!pip list\n",
        "!pip install joblib\n",
        "import joblib\n",
        "!pip install flask-restful\n",
        "from statsmodels.iolib.openfile import get_file_obj\n",
        "!pip install json2html\n",
        "from flask import render_template\n",
        "import pandas as pd\n",
        "import numpy as np\n",
        "!pip install flask_ngrok\n",
        "!pip install pyngrok\n",
        "import xgboost as xgb"
      ]
    },
    {
      "cell_type": "code",
      "execution_count": 2,
      "metadata": {
        "colab": {
          "base_uri": "https://localhost:8080/"
        },
        "id": "toBXf7CpE-GP",
        "outputId": "9d89de73-97d9-4066-a3af-395064aabc48"
      },
      "outputs": [
        {
          "output_type": "stream",
          "name": "stdout",
          "text": [
            "--2022-04-22 05:15:23--  https://github.com/retanaalyson/proyectoIA/archive/master.zip\n",
            "Resolving github.com (github.com)... 140.82.113.4\n",
            "Connecting to github.com (github.com)|140.82.113.4|:443... connected.\n",
            "HTTP request sent, awaiting response... 302 Found\n",
            "Location: https://codeload.github.com/retanaalyson/proyectoIA/zip/main [following]\n",
            "--2022-04-22 05:15:23--  https://codeload.github.com/retanaalyson/proyectoIA/zip/main\n",
            "Resolving codeload.github.com (codeload.github.com)... 140.82.112.10\n",
            "Connecting to codeload.github.com (codeload.github.com)|140.82.112.10|:443... connected.\n",
            "HTTP request sent, awaiting response... 200 OK\n",
            "Length: unspecified [application/zip]\n",
            "Saving to: ‘master.zip’\n",
            "\n",
            "master.zip              [   <=>              ]  47.39M  18.8MB/s    in 2.5s    \n",
            "\n",
            "2022-04-22 05:15:25 (18.8 MB/s) - ‘master.zip’ saved [49696299]\n",
            "\n"
          ]
        }
      ],
      "source": [
        "!wget https://github.com/retanaalyson/proyectoIA/archive/master.zip"
      ]
    },
    {
      "cell_type": "code",
      "execution_count": 3,
      "metadata": {
        "colab": {
          "base_uri": "https://localhost:8080/"
        },
        "id": "-GDe3VfrFFM_",
        "outputId": "207d3e21-d0f1-4455-ebd9-a5322b4f98b4"
      },
      "outputs": [
        {
          "output_type": "stream",
          "name": "stdout",
          "text": [
            "Archive:  /content/master.zip\n",
            "c2deab2ed8172a1dbfd93914ff05402d9c9b8aa1\n",
            "   creating: proyectoIA-main/\n",
            " extracting: proyectoIA-main/archive.zip  \n",
            "  inflating: proyectoIA-main/backend.ipynb  \n",
            "  inflating: proyectoIA-main/masaCorporal.zip  \n",
            "  inflating: proyectoIA-main/modeloAguacate.zip  \n",
            "  inflating: proyectoIA-main/modeloAuto.zip  \n",
            "  inflating: proyectoIA-main/modeloBitcoin.zip  \n",
            "  inflating: proyectoIA-main/modeloCasa.zip  \n",
            " extracting: proyectoIA-main/modeloCirrosis.zip  \n",
            "  inflating: proyectoIA-main/modeloCrimenes.zip  \n",
            "  inflating: proyectoIA-main/modeloHepatitis.zip  \n",
            "  inflating: proyectoIA-main/modeloMasaCorporal.zip  \n",
            "  inflating: proyectoIA-main/modeloTesla.zip  \n",
            "  inflating: proyectoIA-main/modeloVino.zip  \n"
          ]
        }
      ],
      "source": [
        "!unzip \"/content/master.zip\""
      ]
    },
    {
      "cell_type": "markdown",
      "metadata": {
        "id": "Bf7zOsfi3ty1"
      },
      "source": [
        "# *Modelo Aguacate*"
      ]
    },
    {
      "cell_type": "code",
      "execution_count": 4,
      "metadata": {
        "colab": {
          "base_uri": "https://localhost:8080/"
        },
        "id": "23zw9E-t3tzO",
        "outputId": "c1410236-4472-41bb-d0fa-6bf45b7c38b7"
      },
      "outputs": [
        {
          "output_type": "stream",
          "name": "stdout",
          "text": [
            "Archive:  /content/proyectoIA-main/modeloAguacate.zip\n",
            "  inflating: modeloAguacate.joblib   \n"
          ]
        }
      ],
      "source": [
        "!unzip \"/content/proyectoIA-main/modeloAguacate.zip\""
      ]
    },
    {
      "cell_type": "code",
      "execution_count": 5,
      "metadata": {
        "id": "lni3ARb-3tzP"
      },
      "outputs": [],
      "source": [
        "def modeloAguacate(prueba):\n",
        "  filename = '/content/modeloAguacate.joblib'\n",
        "  model = joblib.load(filename) \n",
        "  prediction =model.get_prediction(start=prueba, dynamic=False).conf_int()\n",
        "  return prediction"
      ]
    },
    {
      "cell_type": "markdown",
      "metadata": {
        "id": "NytUKX_57h-d"
      },
      "source": [
        "# *Modelo Automóvil*"
      ]
    },
    {
      "cell_type": "code",
      "execution_count": 6,
      "metadata": {
        "colab": {
          "base_uri": "https://localhost:8080/"
        },
        "id": "WrHlew4T7h_G",
        "outputId": "ba03f880-c260-47e4-928f-6eb5d8b54702"
      },
      "outputs": [
        {
          "output_type": "stream",
          "name": "stdout",
          "text": [
            "Archive:  /content/proyectoIA-main/modeloAuto.zip\n",
            "  inflating: modeloAuto.joblib       \n"
          ]
        }
      ],
      "source": [
        "!unzip \"/content/proyectoIA-main/modeloAuto.zip\""
      ]
    },
    {
      "cell_type": "code",
      "execution_count": 7,
      "metadata": {
        "id": "Fd2a-Qge7h_H"
      },
      "outputs": [],
      "source": [
        "def modeloAuto(prueba):\n",
        "  filename = '/content/modeloAuto.joblib'\n",
        "  model = joblib.load(filename) \n",
        "  prediction =model.get_prediction(start=prueba, dynamic=False).conf_int()\n",
        "  return prediction"
      ]
    },
    {
      "cell_type": "markdown",
      "metadata": {
        "id": "LwduMJn6KBAN"
      },
      "source": [
        "# *Modelo Bitcoin*"
      ]
    },
    {
      "cell_type": "code",
      "execution_count": 26,
      "metadata": {
        "colab": {
          "base_uri": "https://localhost:8080/"
        },
        "id": "XHfr5s4hFViz",
        "outputId": "65152e8d-cad6-4345-e8f5-5a87ad8c81d5"
      },
      "outputs": [
        {
          "output_type": "stream",
          "name": "stdout",
          "text": [
            "Archive:  /content/proyectoIA-main/modeloBitcoin.zip\n",
            "  inflating: modeloBitcoin.joblib    \n"
          ]
        }
      ],
      "source": [
        "!unzip \"/content/proyectoIA-main/modeloBitcoin.zip\""
      ]
    },
    {
      "cell_type": "code",
      "execution_count": 27,
      "metadata": {
        "id": "1zuVU3m92B7b"
      },
      "outputs": [],
      "source": [
        "def modeloBitcoin(prueba):\n",
        "  filename = '/content/modeloBitcoin.joblib'\n",
        "  model = joblib.load(filename) \n",
        "  prediction = model.get_prediction(start=prueba, dynamic=False).conf_int()\n",
        "  return prediction"
      ]
    },
    {
      "cell_type": "markdown",
      "metadata": {
        "id": "jEEGKb-OxIqE"
      },
      "source": [
        "# *Modelo Casa*"
      ]
    },
    {
      "cell_type": "code",
      "execution_count": 8,
      "metadata": {
        "colab": {
          "base_uri": "https://localhost:8080/"
        },
        "id": "mj81fJS2xIqy",
        "outputId": "04c34e93-b688-4bfb-8f7b-d52e2d2b2af2"
      },
      "outputs": [
        {
          "output_type": "stream",
          "name": "stdout",
          "text": [
            "Archive:  /content/proyectoIA-main/modeloCasa.zip\n",
            "  inflating: modeloCasa.joblib       \n"
          ]
        }
      ],
      "source": [
        "!unzip \"/content/proyectoIA-main/modeloCasa.zip\""
      ]
    },
    {
      "cell_type": "code",
      "execution_count": 9,
      "metadata": {
        "id": "UnGRGtVxxIqz"
      },
      "outputs": [],
      "source": [
        "def modeloCasa(prueba):\n",
        "  filename = '/content/modeloCasa.joblib'\n",
        "  model = joblib.load(filename) \n",
        "  prediction =model.predict([prueba])\n",
        "  return prediction"
      ]
    },
    {
      "cell_type": "markdown",
      "metadata": {
        "id": "_RsAU-dKBRk4"
      },
      "source": [
        "# *Modelo Crímenes*"
      ]
    },
    {
      "cell_type": "code",
      "execution_count": 10,
      "metadata": {
        "colab": {
          "base_uri": "https://localhost:8080/"
        },
        "id": "nF_CM-Q5BRk5",
        "outputId": "122a9a09-a436-48c3-b617-e36de9a5c812"
      },
      "outputs": [
        {
          "output_type": "stream",
          "name": "stdout",
          "text": [
            "Archive:  /content/proyectoIA-main/modeloCrimenes.zip\n",
            "  inflating: modeloCrimenes.joblib   \n"
          ]
        }
      ],
      "source": [
        "!unzip \"/content/proyectoIA-main/modeloCrimenes.zip\""
      ]
    },
    {
      "cell_type": "code",
      "execution_count": 11,
      "metadata": {
        "id": "8AiW0bjtBRk6"
      },
      "outputs": [],
      "source": [
        "def modeloCrimenes(prueba):\n",
        "  filename = '/content/modeloCrimenes.joblib'\n",
        "  model = joblib.load(filename) \n",
        "  prediction = model.get_prediction(start=prueba, dynamic=False).conf_int()\n",
        "  return prediction"
      ]
    },
    {
      "cell_type": "markdown",
      "metadata": {
        "id": "hbbsmqNPYTAp"
      },
      "source": [
        "# *Modelo Cirrosis*"
      ]
    },
    {
      "cell_type": "code",
      "execution_count": 12,
      "metadata": {
        "colab": {
          "base_uri": "https://localhost:8080/"
        },
        "id": "UFqhs9EnYTBY",
        "outputId": "d0a6470f-2ecc-4a2e-92a5-64b108d2d54a"
      },
      "outputs": [
        {
          "output_type": "stream",
          "name": "stdout",
          "text": [
            "Archive:  /content/proyectoIA-main/modeloCirrosis.zip\n",
            "  inflating: modeloCirrosis.joblib   \n"
          ]
        }
      ],
      "source": [
        "!unzip \"/content/proyectoIA-main/modeloCirrosis.zip\""
      ]
    },
    {
      "cell_type": "code",
      "execution_count": 13,
      "metadata": {
        "id": "CJjcw41uYTBa"
      },
      "outputs": [],
      "source": [
        "def modeloCirrosis(prueba):\n",
        "  filename = '/content/modeloCirrosis.joblib'\n",
        "  model = joblib.load(filename) \n",
        "  prediction =model.predict([prueba])\n",
        "  return prediction"
      ]
    },
    {
      "cell_type": "markdown",
      "metadata": {
        "id": "WSAT9PCFQeHA"
      },
      "source": [
        "# *Modelo Hepatitis*"
      ]
    },
    {
      "cell_type": "code",
      "execution_count": 14,
      "metadata": {
        "colab": {
          "base_uri": "https://localhost:8080/"
        },
        "id": "sG7dOt1uWenw",
        "outputId": "e58c37cc-559c-41ab-8a62-4e618d9982d8"
      },
      "outputs": [
        {
          "output_type": "stream",
          "name": "stdout",
          "text": [
            "Archive:  /content/proyectoIA-main/modeloHepatitis.zip\n",
            "  inflating: modeloHepatitis.joblib  \n"
          ]
        }
      ],
      "source": [
        "!unzip \"/content/proyectoIA-main/modeloHepatitis.zip\""
      ]
    },
    {
      "cell_type": "code",
      "execution_count": 15,
      "metadata": {
        "id": "E9fYcMBmWn2N"
      },
      "outputs": [],
      "source": [
        "def modeloHepatitis(prueba):\n",
        "  filename = '/content/modeloHepatitis.joblib'\n",
        "  model = joblib.load(filename) \n",
        "  prediction =model.predict([prueba])\n",
        "  return prediction"
      ]
    },
    {
      "cell_type": "markdown",
      "metadata": {
        "id": "kY4yQBXuQm0Y"
      },
      "source": [
        "# *Modelo Masa Corporal*"
      ]
    },
    {
      "cell_type": "code",
      "execution_count": 16,
      "metadata": {
        "colab": {
          "base_uri": "https://localhost:8080/"
        },
        "id": "ShyyDgC7Qm00",
        "outputId": "8e93b42e-d845-4c9c-dd0b-a8a2fe4e0483"
      },
      "outputs": [
        {
          "output_type": "stream",
          "name": "stdout",
          "text": [
            "Archive:  /content/proyectoIA-main/modeloMasaCorporal.zip\n",
            "  inflating: modeloMasaCorporal.joblib  \n"
          ]
        }
      ],
      "source": [
        "!unzip \"/content/proyectoIA-main/modeloMasaCorporal.zip\""
      ]
    },
    {
      "cell_type": "code",
      "execution_count": 17,
      "metadata": {
        "id": "YiKCcYYIQm01"
      },
      "outputs": [],
      "source": [
        "def modeloMasaCorporal(prueba):\n",
        "  filename = '/content/modeloMasaCorporal.joblib'\n",
        "  model = joblib.load(filename) \n",
        "  prediction = model.predict(prueba)\n",
        "  print(prediction)\n",
        "  return prediction"
      ]
    },
    {
      "cell_type": "markdown",
      "metadata": {
        "id": "Nw3_hqgCQqXY"
      },
      "source": [
        "# *Modelo Tesla*"
      ]
    },
    {
      "cell_type": "code",
      "execution_count": 18,
      "metadata": {
        "colab": {
          "base_uri": "https://localhost:8080/"
        },
        "id": "NBcPPiKfQqYA",
        "outputId": "900ec8ee-f19c-4d47-dc93-104dc698912c"
      },
      "outputs": [
        {
          "output_type": "stream",
          "name": "stdout",
          "text": [
            "Archive:  /content/proyectoIA-main/modeloTesla.zip\n",
            "  inflating: modeloTesla.joblib      \n"
          ]
        }
      ],
      "source": [
        "!unzip \"/content/proyectoIA-main/modeloTesla.zip\""
      ]
    },
    {
      "cell_type": "code",
      "execution_count": 19,
      "metadata": {
        "id": "uIa38MRXQqYC"
      },
      "outputs": [],
      "source": [
        "def modeloTesla(prueba):\n",
        "  filename = '/content/modeloTesla.joblib'\n",
        "  model = joblib.load(filename) \n",
        "  prediction =model.get_prediction(start=prueba, dynamic=False).conf_int()\n",
        "  return prediction"
      ]
    },
    {
      "cell_type": "markdown",
      "metadata": {
        "id": "ZNOmAPsxi8uu"
      },
      "source": [
        "# *Modelo Vino*"
      ]
    },
    {
      "cell_type": "code",
      "execution_count": 20,
      "metadata": {
        "colab": {
          "base_uri": "https://localhost:8080/"
        },
        "id": "G-5OXpRgi8u1",
        "outputId": "dd402bdc-0ddf-4efd-ae49-655d8a7d0b1b"
      },
      "outputs": [
        {
          "output_type": "stream",
          "name": "stdout",
          "text": [
            "Archive:  /content/proyectoIA-main/modeloVino.zip\n",
            "  inflating: modeloVino.joblib       \n"
          ]
        }
      ],
      "source": [
        "!unzip \"/content/proyectoIA-main/modeloVino.zip\""
      ]
    },
    {
      "cell_type": "code",
      "execution_count": 21,
      "metadata": {
        "id": "PGrrfc8Ei8u4"
      },
      "outputs": [],
      "source": [
        "def modeloVino(prueba):\n",
        "  filename = '/content/modeloVino.joblib'\n",
        "  model = joblib.load(filename) \n",
        "  prediction = model.predict([prueba])\n",
        "  return prediction"
      ]
    },
    {
      "cell_type": "markdown",
      "metadata": {
        "id": "dXYnZWbwKL0I"
      },
      "source": [
        "# **Main**"
      ]
    },
    {
      "cell_type": "code",
      "execution_count": 22,
      "metadata": {
        "colab": {
          "base_uri": "https://localhost:8080/"
        },
        "id": "BdmuiJzvE6uv",
        "outputId": "eb9f2941-a3b0-405d-fb52-e8c62660746d"
      },
      "outputs": [
        {
          "output_type": "stream",
          "name": "stdout",
          "text": [
            "deb https://ngrok-agent.s3.amazonaws.com buster main\n",
            "Get:1 http://security.ubuntu.com/ubuntu bionic-security InRelease [88.7 kB]\n",
            "Get:2 https://cloud.r-project.org/bin/linux/ubuntu bionic-cran40/ InRelease [3,626 B]\n",
            "Ign:3 https://developer.download.nvidia.com/compute/cuda/repos/ubuntu1804/x86_64  InRelease\n",
            "Get:4 http://ppa.launchpad.net/c2d4u.team/c2d4u4.0+/ubuntu bionic InRelease [15.9 kB]\n",
            "Hit:5 http://archive.ubuntu.com/ubuntu bionic InRelease\n",
            "Ign:6 https://developer.download.nvidia.com/compute/machine-learning/repos/ubuntu1804/x86_64  InRelease\n",
            "Hit:7 https://developer.download.nvidia.com/compute/cuda/repos/ubuntu1804/x86_64  Release\n",
            "Hit:8 https://developer.download.nvidia.com/compute/machine-learning/repos/ubuntu1804/x86_64  Release\n",
            "Get:9 http://archive.ubuntu.com/ubuntu bionic-updates InRelease [88.7 kB]\n",
            "Get:10 http://security.ubuntu.com/ubuntu bionic-security/universe amd64 Packages [1,496 kB]\n",
            "Get:11 https://ngrok-agent.s3.amazonaws.com buster InRelease [17.1 kB]\n",
            "Hit:12 http://ppa.launchpad.net/cran/libgit2/ubuntu bionic InRelease\n",
            "Get:13 http://security.ubuntu.com/ubuntu bionic-security/restricted amd64 Packages [907 kB]\n",
            "Get:14 http://security.ubuntu.com/ubuntu bionic-security/main amd64 Packages [2,728 kB]\n",
            "Get:15 http://archive.ubuntu.com/ubuntu bionic-backports InRelease [74.6 kB]\n",
            "Hit:16 http://ppa.launchpad.net/deadsnakes/ppa/ubuntu bionic InRelease\n",
            "Hit:17 http://ppa.launchpad.net/graphics-drivers/ppa/ubuntu bionic InRelease\n",
            "Get:20 http://ppa.launchpad.net/c2d4u.team/c2d4u4.0+/ubuntu bionic/main Sources [1,950 kB]\n",
            "Get:21 https://ngrok-agent.s3.amazonaws.com buster/main amd64 Packages [771 B]\n",
            "Get:22 http://archive.ubuntu.com/ubuntu bionic-updates/restricted amd64 Packages [941 kB]\n",
            "Get:23 http://archive.ubuntu.com/ubuntu bionic-updates/universe amd64 Packages [2,272 kB]\n",
            "Get:24 http://ppa.launchpad.net/c2d4u.team/c2d4u4.0+/ubuntu bionic/main amd64 Packages [999 kB]\n",
            "Get:25 http://archive.ubuntu.com/ubuntu bionic-updates/main amd64 Packages [3,165 kB]\n",
            "Fetched 14.7 MB in 2s (6,098 kB/s)\n",
            "Reading package lists... Done\n",
            "Building dependency tree       \n",
            "Reading state information... Done\n",
            "49 packages can be upgraded. Run 'apt list --upgradable' to see them.\n",
            "Reading package lists... Done\n",
            "Building dependency tree       \n",
            "Reading state information... Done\n",
            "The following NEW packages will be installed:\n",
            "  ngrok\n",
            "0 upgraded, 1 newly installed, 0 to remove and 49 not upgraded.\n",
            "Need to get 5,444 kB of archives.\n",
            "After this operation, 0 B of additional disk space will be used.\n",
            "Get:1 https://ngrok-agent.s3.amazonaws.com buster/main amd64 ngrok amd64 3.0.2 [5,444 kB]\n",
            "Fetched 5,444 kB in 1s (4,934 kB/s)\n",
            "debconf: unable to initialize frontend: Dialog\n",
            "debconf: (No usable dialog-like program is installed, so the dialog based frontend cannot be used. at /usr/share/perl5/Debconf/FrontEnd/Dialog.pm line 76, <> line 1.)\n",
            "debconf: falling back to frontend: Readline\n",
            "debconf: unable to initialize frontend: Readline\n",
            "debconf: (This frontend requires a controlling tty.)\n",
            "debconf: falling back to frontend: Teletype\n",
            "dpkg-preconfigure: unable to re-open stdin: \n",
            "Selecting previously unselected package ngrok.\n",
            "(Reading database ... 155501 files and directories currently installed.)\n",
            "Preparing to unpack .../archives/ngrok_3.0.2_amd64.deb ...\n",
            "Unpacking ngrok (3.0.2) ...\n",
            "Setting up ngrok (3.0.2) ...\n"
          ]
        }
      ],
      "source": [
        "!curl -s https://ngrok-agent.s3.amazonaws.com/ngrok.asc | sudo tee /etc/apt/trusted.gpg.d/ngrok.asc >/dev/null && echo \"deb https://ngrok-agent.s3.amazonaws.com buster main\" | sudo tee /etc/apt/sources.list.d/ngrok.list && sudo apt update && sudo apt install ngrok   "
      ]
    },
    {
      "cell_type": "code",
      "execution_count": 23,
      "metadata": {
        "colab": {
          "base_uri": "https://localhost:8080/"
        },
        "id": "sB9jNI_yFAl3",
        "outputId": "a220e9f5-f294-4a78-ba31-c4154a955257"
      },
      "outputs": [
        {
          "output_type": "stream",
          "name": "stdout",
          "text": [
            "master.zip\t       modeloCirrosis.joblib\t  modeloTesla.joblib\n",
            "modeloAguacate.joblib  modeloCrimenes.joblib\t  modeloVino.joblib\n",
            "modeloAuto.joblib      modeloHepatitis.joblib\t  proyectoIA-main\n",
            "modeloCasa.joblib      modeloMasaCorporal.joblib  sample_data\n"
          ]
        }
      ],
      "source": [
        "!ls"
      ]
    },
    {
      "cell_type": "code",
      "execution_count": 24,
      "metadata": {
        "colab": {
          "base_uri": "https://localhost:8080/"
        },
        "id": "kZWvG7LYFBgo",
        "outputId": "84ab1d26-049e-4877-cf1a-3b1437bcc46b"
      },
      "outputs": [
        {
          "output_type": "stream",
          "name": "stdout",
          "text": [
            "Authtoken saved to configuration file: /root/.config/ngrok/ngrok.yml\n"
          ]
        }
      ],
      "source": [
        "!ngrok authtoken 27hXviPTYKiSnWsJrNeY0gGwKtu_6mTDGjMC6drMLxvbBKNXz"
      ]
    },
    {
      "cell_type": "code",
      "execution_count": null,
      "metadata": {
        "colab": {
          "base_uri": "https://localhost:8080/"
        },
        "id": "NYvj3_UpBDan",
        "outputId": "482b78aa-04f1-4511-d9b1-883a4e0edbbe"
      },
      "outputs": [
        {
          "output_type": "stream",
          "name": "stdout",
          "text": [
            " * Serving Flask app \"__main__\" (lazy loading)\n",
            " * Environment: production\n",
            "\u001b[31m   WARNING: This is a development server. Do not use it in a production deployment.\u001b[0m\n",
            "\u001b[2m   Use a production WSGI server instead.\u001b[0m\n",
            " * Debug mode: off\n"
          ]
        },
        {
          "output_type": "stream",
          "name": "stderr",
          "text": [
            " * Running on http://127.0.0.1:5000/ (Press CTRL+C to quit)\n"
          ]
        },
        {
          "output_type": "stream",
          "name": "stdout",
          "text": [
            " * Running on http://e0bd-34-145-242-115.ngrok.io\n",
            " * Traffic stats available on http://127.0.0.1:4040\n"
          ]
        },
        {
          "output_type": "stream",
          "name": "stderr",
          "text": [
            "127.0.0.1 - - [22/Apr/2022 05:18:04] \"\u001b[37mGET /modelBitcoin?fecha=2020-01-01 HTTP/1.1\u001b[0m\" 200 -\n",
            "127.0.0.1 - - [22/Apr/2022 05:18:08] \"\u001b[37mGET /modelBitcoin?fecha=2020-07-01 HTTP/1.1\u001b[0m\" 200 -\n",
            "/usr/local/lib/python3.7/dist-packages/sklearn/base.py:566: FutureWarning: Arrays of bytes/strings is being converted to decimal numbers if dtype='numeric'. This behavior is deprecated in 0.24 and will be removed in 1.1 (renaming of 0.26). Please convert your data to numeric values explicitly instead.\n",
            "  X = check_array(X, **check_params)\n",
            "127.0.0.1 - - [22/Apr/2022 05:18:24] \"\u001b[37mGET /modelCasa?sqft_living=2000 HTTP/1.1\u001b[0m\" 200 -\n"
          ]
        },
        {
          "output_type": "stream",
          "name": "stdout",
          "text": [
            "Retorna: \n"
          ]
        },
        {
          "output_type": "stream",
          "name": "stderr",
          "text": [
            "127.0.0.1 - - [22/Apr/2022 05:18:33] \"\u001b[37mGET /modelAuto?fecha=2027-12-31 HTTP/1.1\u001b[0m\" 200 -\n"
          ]
        },
        {
          "output_type": "stream",
          "name": "stdout",
          "text": [
            "Retorna: \n",
            "            lower Selling_Price  upper Selling_Price\n",
            "2027-12-31         -3641.354952           996.129318\n"
          ]
        },
        {
          "output_type": "stream",
          "name": "stderr",
          "text": [
            "127.0.0.1 - - [22/Apr/2022 05:18:42] \"\u001b[37mGET /modelMasaCorporal?Density=1&Abdomen=70 HTTP/1.1\u001b[0m\" 200 -\n"
          ]
        },
        {
          "output_type": "stream",
          "name": "stdout",
          "text": [
            "Retorna: \n",
            "0    40.497658\n",
            "dtype: float64\n"
          ]
        },
        {
          "output_type": "stream",
          "name": "stderr",
          "text": [
            "127.0.0.1 - - [22/Apr/2022 05:18:46] \"\u001b[37mGET /modelAguacate?fecha=2020-01-01 HTTP/1.1\u001b[0m\" 200 -\n",
            "127.0.0.1 - - [22/Apr/2022 05:18:49] \"\u001b[37mGET /modelAguacate?fecha=2025-01-01 HTTP/1.1\u001b[0m\" 200 -\n",
            "127.0.0.1 - - [22/Apr/2022 05:18:52] \"\u001b[37mGET /modelAguacate?fecha=2030-01-01 HTTP/1.1\u001b[0m\" 200 -\n",
            "127.0.0.1 - - [22/Apr/2022 05:18:58] \"\u001b[37mGET /modelCrimenes?fecha=2023-01-01 HTTP/1.1\u001b[0m\" 200 -\n",
            "127.0.0.1 - - [22/Apr/2022 05:19:05] \"\u001b[37mGET /modelCrimenes?fecha=2030-12-01 HTTP/1.1\u001b[0m\" 200 -\n",
            "127.0.0.1 - - [22/Apr/2022 05:19:11] \"\u001b[37mGET /modelTesla?fecha=2023-01-01 HTTP/1.1\u001b[0m\" 200 -\n",
            "127.0.0.1 - - [22/Apr/2022 05:19:13] \"\u001b[37mGET /modelTesla?fecha=2028-01-01 HTTP/1.1\u001b[0m\" 200 -\n",
            "[2022-04-22 05:34:54,493] ERROR in app: Exception on /modelBitcoin [GET]\n",
            "Traceback (most recent call last):\n",
            "  File \"pandas/_libs/index.pyx\", line 460, in pandas._libs.index.DatetimeEngine.get_loc\n",
            "  File \"pandas/_libs/hashtable_class_helper.pxi\", line 2131, in pandas._libs.hashtable.Int64HashTable.get_item\n",
            "  File \"pandas/_libs/hashtable_class_helper.pxi\", line 2140, in pandas._libs.hashtable.Int64HashTable.get_item\n",
            "KeyError: 1578441600000000000\n",
            "\n",
            "During handling of the above exception, another exception occurred:\n",
            "\n",
            "Traceback (most recent call last):\n",
            "  File \"/usr/local/lib/python3.7/dist-packages/pandas/core/indexes/base.py\", line 3361, in get_loc\n",
            "    return self._engine.get_loc(casted_key)\n",
            "  File \"pandas/_libs/index.pyx\", line 429, in pandas._libs.index.DatetimeEngine.get_loc\n",
            "  File \"pandas/_libs/index.pyx\", line 462, in pandas._libs.index.DatetimeEngine.get_loc\n",
            "KeyError: Timestamp('2020-01-08 00:00:00')\n",
            "\n",
            "The above exception was the direct cause of the following exception:\n",
            "\n",
            "Traceback (most recent call last):\n",
            "  File \"/usr/local/lib/python3.7/dist-packages/pandas/core/indexes/datetimes.py\", line 703, in get_loc\n",
            "    return Index.get_loc(self, key, method, tolerance)\n",
            "  File \"/usr/local/lib/python3.7/dist-packages/pandas/core/indexes/base.py\", line 3363, in get_loc\n",
            "    raise KeyError(key) from err\n",
            "KeyError: Timestamp('2020-01-08 00:00:00')\n",
            "\n",
            "The above exception was the direct cause of the following exception:\n",
            "\n",
            "Traceback (most recent call last):\n",
            "  File \"/usr/local/lib/python3.7/dist-packages/statsmodels/tsa/base/tsa_model.py\", line 522, in _get_prediction_index\n",
            "    start, start_index, start_oos = self._get_index_label_loc(start)\n",
            "  File \"/usr/local/lib/python3.7/dist-packages/statsmodels/tsa/base/tsa_model.py\", line 458, in _get_index_label_loc\n",
            "    raise e\n",
            "  File \"/usr/local/lib/python3.7/dist-packages/statsmodels/tsa/base/tsa_model.py\", line 422, in _get_index_label_loc\n",
            "    self._get_index_loc(key, base_index))\n",
            "  File \"/usr/local/lib/python3.7/dist-packages/statsmodels/tsa/base/tsa_model.py\", line 355, in _get_index_loc\n",
            "    loc = index.get_loc(key)\n",
            "  File \"/usr/local/lib/python3.7/dist-packages/pandas/core/indexes/datetimes.py\", line 705, in get_loc\n",
            "    raise KeyError(orig_key) from err\n",
            "KeyError: Timestamp('2020-01-08 00:00:00')\n",
            "\n",
            "During handling of the above exception, another exception occurred:\n",
            "\n",
            "Traceback (most recent call last):\n",
            "  File \"/usr/local/lib/python3.7/dist-packages/flask/app.py\", line 2447, in wsgi_app\n",
            "    response = self.full_dispatch_request()\n",
            "  File \"/usr/local/lib/python3.7/dist-packages/flask/app.py\", line 1952, in full_dispatch_request\n",
            "    rv = self.handle_user_exception(e)\n",
            "  File \"/usr/local/lib/python3.7/dist-packages/flask_restful/__init__.py\", line 271, in error_router\n",
            "    return original_handler(e)\n",
            "  File \"/usr/local/lib/python3.7/dist-packages/flask/app.py\", line 1821, in handle_user_exception\n",
            "    reraise(exc_type, exc_value, tb)\n",
            "  File \"/usr/local/lib/python3.7/dist-packages/flask/_compat.py\", line 39, in reraise\n",
            "    raise value\n",
            "  File \"/usr/local/lib/python3.7/dist-packages/flask/app.py\", line 1950, in full_dispatch_request\n",
            "    rv = self.dispatch_request()\n",
            "  File \"/usr/local/lib/python3.7/dist-packages/flask/app.py\", line 1936, in dispatch_request\n",
            "    return self.view_functions[rule.endpoint](**req.view_args)\n",
            "  File \"<ipython-input-28-765f8b4081b6>\", line 36, in modelBitcoin\n",
            "    return modeloBitcoin(prueba).to_json(orient='index',date_format='iso')\n",
            "  File \"<ipython-input-27-5b440efcfa11>\", line 4, in modeloBitcoin\n",
            "    prediction = model.get_prediction(start=prueba, dynamic=False).conf_int()\n",
            "  File \"/usr/local/lib/python3.7/dist-packages/statsmodels/tsa/statespace/sarimax.py\", line 1894, in get_prediction\n",
            "    self.model._get_prediction_index(start, end, index, silent=True))\n",
            "  File \"/usr/local/lib/python3.7/dist-packages/statsmodels/tsa/base/tsa_model.py\", line 524, in _get_prediction_index\n",
            "    raise KeyError('The `start` argument could not be matched to a'\n",
            "KeyError: 'The `start` argument could not be matched to a location related to the index of the data.'\n",
            "127.0.0.1 - - [22/Apr/2022 05:34:54] \"\u001b[35m\u001b[1mGET /modelBitcoin?fecha=2020-01-08 HTTP/1.1\u001b[0m\" 500 -\n",
            "127.0.0.1 - - [22/Apr/2022 05:35:28] \"\u001b[37mGET /modelBitcoin?fecha=2020-01-01 HTTP/1.1\u001b[0m\" 200 -\n"
          ]
        }
      ],
      "source": [
        "from flask_ngrok import run_with_ngrok\n",
        "from flask import Flask\n",
        "from flask_restful import Api\n",
        "from flask import request\n",
        "from pyngrok import ngrok\n",
        "\n",
        "app = Flask(__name__)\n",
        "api = Api(app)\n",
        "\n",
        "ngrok.set_auth_token(\"27hXviPTYKiSnWsJrNeY0gGwKtu_6mTDGjMC6drMLxvbBKNXz\")\n",
        "\n",
        "run_with_ngrok(app)\n",
        "\n",
        "@app.route(\"/\")\n",
        "def index():\n",
        "  return \"<h1>Running Flask!</h1>\"\n",
        "\n",
        "@app.route(\"/modelAguacate\")\n",
        "def modelAguacate():\n",
        "  fecha = request.args.get('fecha')\n",
        "  prueba = pd.to_datetime(fecha)\n",
        "  return modeloAguacate(prueba).to_json(orient='index',date_format='iso')\n",
        "\n",
        "@app.route(\"/modelAuto\")\n",
        "def modelAuto():\n",
        "  fecha = request.args.get('fecha')\n",
        "  prueba = pd.to_datetime(fecha)\n",
        "  print('Retorna: ')\n",
        "  print(modeloAuto(prueba))\n",
        "  return modeloAuto(prueba).to_json(orient='index',date_format='iso')\n",
        "  \n",
        "@app.route(\"/modelBitcoin\")\n",
        "def modelBitcoin():\n",
        "  fecha = request.args.get('fecha')\n",
        "  prueba = pd.to_datetime(fecha)\n",
        "  return modeloBitcoin(prueba).to_json(orient='index',date_format='iso')\n",
        "\n",
        "@app.route(\"/modelCasa\")\n",
        "def modelCasa():\n",
        "  sqft_living = request.args.get('sqft_living')\n",
        "  prueba = np.array([sqft_living])\n",
        "  print('Retorna: ')\n",
        "  df = pd.DataFrame(modeloCasa(prueba), columns = ['Result'])\n",
        "  return df.to_json()\n",
        "\n",
        "@app.route(\"/modelCrimenes\")\n",
        "def modelCrimenes():\n",
        "  fecha = request.args.get('fecha')\n",
        "  prueba = pd.to_datetime(fecha)\n",
        "  return modeloCrimenes(prueba).to_json(orient='index',date_format='iso')\n",
        "\n",
        "@app.route(\"/modelCirrosis\")\n",
        "def modelCirrosis():\n",
        "  N_Days = request.args.get('N_Days')\n",
        "  Status = request.args.get('Status')\n",
        "  Drug = request.args.get('Drug')\n",
        "  Age = request.args.get('Age')\n",
        "  Sex = request.args.get('Sex')\n",
        "  Ascites = request.args.get('Ascites')\n",
        "  Hepatomegaly = request.args.get('Hepatomegaly')\n",
        "  Spiders = request.args.get('Spiders')\n",
        "  Edema = request.args.get('Edema')\n",
        "  Bilirubin = request.args.get('Bilirubin')\n",
        "  Cholesterol = request.args.get('Cholesterol')\n",
        "  Albumin = request.args.get('Albumin')\n",
        "  Copper = request.args.get('Copper')\n",
        "  Alk_Phos = request.args.get('Alk_Phos')\n",
        "  SGOT = request.args.get('SGOT')\n",
        "  Tryglicerides = request.args.get('Tryglicerides')\n",
        "  Platelets = request.args.get('Platelets')\n",
        "  Prothrombin = request.args.get('Prothrombin')\n",
        "  data = np.array([N_Days,Status,Drug,Age,Sex,Ascites,Hepatomegaly,Spiders,Edema,Bilirubin,Cholesterol,Albumin,Copper,Alk_Phos,SGOT,Tryglicerides,Platelets,Prothrombin])\n",
        "  prueba = pd.Series(data)\n",
        "  df = pd.DataFrame(modeloCirrosis(prueba), columns = ['Result'])\n",
        "  return df.to_json()\n",
        "\n",
        "@app.route(\"/modelHepatitis\")\n",
        "def modelHepatitis():\n",
        "  Age = request.args.get('Age')\n",
        "  Sex = request.args.get('Sex')\n",
        "  ALB = request.args.get('ALB')\n",
        "  ALP = request.args.get('ALP')\n",
        "  ALT = request.args.get('ALT')\n",
        "  AST = request.args.get('AST')\n",
        "  BIL = request.args.get('BIL')\n",
        "  CHE = request.args.get('CHE')\n",
        "  CHOL = request.args.get('CHOL')\n",
        "  CREA = request.args.get('CREA')\n",
        "  GGT = request.args.get('GGT')\n",
        "  PROT = request.args.get('PROT')\n",
        "  data = np.array([Age,Sex,ALB,ALP,ALT,AST,BIL,CHE,CHOL,CREA,GGT,PROT])\n",
        "  prueba = pd.Series(data)\n",
        "  df = pd.DataFrame(modeloHepatitis(prueba), columns = ['Result'])\n",
        "  return df.to_json()\n",
        "\n",
        "@app.route(\"/modelMasaCorporal\")\n",
        "def modelMasaCorporal():\n",
        "  Density = request.args.get('Density')\n",
        "  Abdomen = request.args.get('Abdomen')\n",
        "  print('Retorna: ')\n",
        "  dfPrueba =pd.DataFrame()\n",
        "  dfPrueba =dfPrueba.append({'Density': float(Density), 'Abdomen': float(Abdomen)}, ignore_index=True)\n",
        "  df = pd.DataFrame(modeloMasaCorporal(dfPrueba), columns = ['Result'])\n",
        "  return df.to_json()\n",
        "\n",
        "@app.route(\"/modelTesla\")\n",
        "def modelTesla():\n",
        "  fecha = request.args.get('fecha')\n",
        "  prueba = pd.to_datetime(fecha)\n",
        "  return modeloTesla(prueba).to_json(orient='index',date_format='iso')\n",
        "\n",
        "@app.route(\"/modelVino\")\n",
        "def modelVino():\n",
        "  tipo = request.args.get('tipo')\n",
        "  acido = request.args.get('acido')\n",
        "  volatil = request.args.get('volatil')\n",
        "  citric = request.args.get('citric')\n",
        "  sugar = request.args.get('sugar')\n",
        "  chlorides = request.args.get('chlorides')\n",
        "  sulfur  = request.args.get('sulfur')\n",
        "  dioxide = request.args.get('dioxide')\n",
        "  density = request.args.get('density')\n",
        "  pH = request.args.get('pH')\n",
        "  sulphates = request.args.get('sulphates')\n",
        "  alcohol = request.args.get('alcohol')\n",
        "  data = np.array([tipo,acido,volatil,citric,sugar,chlorides,sulfur,dioxide,density,pH,sulphates,alcohol])\n",
        "  prueba = pd.Series(data)\n",
        "  df = pd.DataFrame(modeloVino(prueba), columns = ['Result'])\n",
        "  return df.to_json()\n",
        "  \n",
        "app.run()"
      ]
    }
  ],
  "metadata": {
    "colab": {
      "collapsed_sections": [
        "Bf7zOsfi3ty1",
        "NytUKX_57h-d",
        "LwduMJn6KBAN",
        "jEEGKb-OxIqE",
        "_RsAU-dKBRk4",
        "hbbsmqNPYTAp",
        "WSAT9PCFQeHA",
        "kY4yQBXuQm0Y",
        "Nw3_hqgCQqXY",
        "ZNOmAPsxi8uu"
      ],
      "name": "BackIA.ipynb",
      "provenance": [],
      "include_colab_link": true
    },
    "kernelspec": {
      "display_name": "Python 3",
      "name": "python3"
    },
    "language_info": {
      "name": "python"
    }
  },
  "nbformat": 4,
  "nbformat_minor": 0
}